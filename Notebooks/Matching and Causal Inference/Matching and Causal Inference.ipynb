{
 "cells": [
  {
   "cell_type": "markdown",
   "metadata": {},
   "source": [
    "# Performing Matching for Causal Inference on \"Lalonde\" Dataset\n",
    "\n",
    "\n",
    "Data sourced from\n",
    "\n",
    "https://github.com/robjellis/lalonde/blob/master/lalonde_data.csv\n",
    "\n",
    "\n",
    "Based on the notebook demonstrating the causalinference package, at:\n",
    "\n",
    "https://rugg2.github.io/Lalonde%20dataset%20-%20Causal%20Inference.html\n",
    "\n",
    "## Importing Packages"
   ]
  },
  {
   "cell_type": "code",
   "execution_count": 1,
   "metadata": {},
   "outputs": [],
   "source": [
    "##Import packages\n",
    "\n",
    "#Data Processing\n",
    "import pandas as pd\n",
    "import numpy as np\n",
    "\n",
    "#Finding the data on our system\n",
    "import pathlib\n",
    "\n",
    "#Matching library\n",
    "from causalinference import CausalModel\n",
    "\n",
    "#Scikit-Learn linear regression\n",
    "from sklearn import linear_model\n",
    "\n",
    "#Scaling\n",
    "from sklearn.preprocessing import StandardScaler\n",
    "\n",
    "#Splitting data into training and test\n",
    "from sklearn.model_selection import train_test_split\n",
    "\n",
    "#Plotting library\n",
    "import matplotlib.pyplot as plt"
   ]
  },
  {
   "cell_type": "markdown",
   "metadata": {},
   "source": [
    "## Import Data\n",
    "\n",
    "### Understanding the Dataset\n",
    "\n",
    "The Lalonde dataset is a classic example used for causal inference.\n",
    "# I should write something about the original paper here, and then review other things that I've written\n",
    "\n",
    "\n",
    "In this dataset, we see individuals and try to find the impact that the treatment (an educational training) has on their income in 1978. All the information we have on each individual is as follows:\n",
    "\n",
    "- ID - a unique identifier for the individual (we'll drop this because it doesn't tell us anything)\n",
    "- treat - 1 or 0 - if the individual recieved the treatment\n",
    "- age - integer - the age of the individual\n",
    "- educ - int - the number of years of education that the individual has recieved\n",
    "- black - 1 or 0 - if the individual is black\n",
    "- hispan - 1 or 0 - if the individual is hispanic\n",
    "- married - 1 or 0 - if the individual is married\n",
    "- nodegree - 1 or 0 - if the individual does not have a degree (0 = degree, 1 = no degree)\n",
    "- re74 - real number - the income of the individual in 1974 (prior to the treatment)\n",
    "- re75 - real number - the income of the individual in 1975 (prior to the treatment)\n",
    "- re78 - real number - the outcome variable - the income of the individual in 1978 (after treatment of those who recieved it)\n",
    "\n",
    "Unfortunately, re74 and re75 have a lot of missing values (0 income), which weakens our analysis. However, missing values can be indicative of something about the individual, so we can still actually match on these! We will probably end up matching those people with missing values to other people that have missing values."
   ]
  },
  {
   "cell_type": "code",
   "execution_count": 2,
   "metadata": {
    "scrolled": true
   },
   "outputs": [
    {
     "data": {
      "text/html": [
       "<div>\n",
       "<style scoped>\n",
       "    .dataframe tbody tr th:only-of-type {\n",
       "        vertical-align: middle;\n",
       "    }\n",
       "\n",
       "    .dataframe tbody tr th {\n",
       "        vertical-align: top;\n",
       "    }\n",
       "\n",
       "    .dataframe thead th {\n",
       "        text-align: right;\n",
       "    }\n",
       "</style>\n",
       "<table border=\"1\" class=\"dataframe\">\n",
       "  <thead>\n",
       "    <tr style=\"text-align: right;\">\n",
       "      <th></th>\n",
       "      <th>ID</th>\n",
       "      <th>treat</th>\n",
       "      <th>age</th>\n",
       "      <th>educ</th>\n",
       "      <th>black</th>\n",
       "      <th>hispan</th>\n",
       "      <th>married</th>\n",
       "      <th>nodegree</th>\n",
       "      <th>re74</th>\n",
       "      <th>re75</th>\n",
       "      <th>re78</th>\n",
       "    </tr>\n",
       "  </thead>\n",
       "  <tbody>\n",
       "    <tr>\n",
       "      <th>0</th>\n",
       "      <td>NSW1</td>\n",
       "      <td>1</td>\n",
       "      <td>37</td>\n",
       "      <td>11</td>\n",
       "      <td>1</td>\n",
       "      <td>0</td>\n",
       "      <td>1</td>\n",
       "      <td>1</td>\n",
       "      <td>0.0</td>\n",
       "      <td>0.0</td>\n",
       "      <td>9930.0460</td>\n",
       "    </tr>\n",
       "    <tr>\n",
       "      <th>1</th>\n",
       "      <td>NSW2</td>\n",
       "      <td>1</td>\n",
       "      <td>22</td>\n",
       "      <td>9</td>\n",
       "      <td>0</td>\n",
       "      <td>1</td>\n",
       "      <td>0</td>\n",
       "      <td>1</td>\n",
       "      <td>0.0</td>\n",
       "      <td>0.0</td>\n",
       "      <td>3595.8940</td>\n",
       "    </tr>\n",
       "    <tr>\n",
       "      <th>2</th>\n",
       "      <td>NSW3</td>\n",
       "      <td>1</td>\n",
       "      <td>30</td>\n",
       "      <td>12</td>\n",
       "      <td>1</td>\n",
       "      <td>0</td>\n",
       "      <td>0</td>\n",
       "      <td>0</td>\n",
       "      <td>0.0</td>\n",
       "      <td>0.0</td>\n",
       "      <td>24909.4500</td>\n",
       "    </tr>\n",
       "    <tr>\n",
       "      <th>3</th>\n",
       "      <td>NSW4</td>\n",
       "      <td>1</td>\n",
       "      <td>27</td>\n",
       "      <td>11</td>\n",
       "      <td>1</td>\n",
       "      <td>0</td>\n",
       "      <td>0</td>\n",
       "      <td>1</td>\n",
       "      <td>0.0</td>\n",
       "      <td>0.0</td>\n",
       "      <td>7506.1460</td>\n",
       "    </tr>\n",
       "    <tr>\n",
       "      <th>4</th>\n",
       "      <td>NSW5</td>\n",
       "      <td>1</td>\n",
       "      <td>33</td>\n",
       "      <td>8</td>\n",
       "      <td>1</td>\n",
       "      <td>0</td>\n",
       "      <td>0</td>\n",
       "      <td>1</td>\n",
       "      <td>0.0</td>\n",
       "      <td>0.0</td>\n",
       "      <td>289.7899</td>\n",
       "    </tr>\n",
       "  </tbody>\n",
       "</table>\n",
       "</div>"
      ],
      "text/plain": [
       "     ID  treat  age  educ  black  hispan  married  nodegree  re74  re75  \\\n",
       "0  NSW1      1   37    11      1       0        1         1   0.0   0.0   \n",
       "1  NSW2      1   22     9      0       1        0         1   0.0   0.0   \n",
       "2  NSW3      1   30    12      1       0        0         0   0.0   0.0   \n",
       "3  NSW4      1   27    11      1       0        0         1   0.0   0.0   \n",
       "4  NSW5      1   33     8      1       0        0         1   0.0   0.0   \n",
       "\n",
       "         re78  \n",
       "0   9930.0460  \n",
       "1   3595.8940  \n",
       "2  24909.4500  \n",
       "3   7506.1460  \n",
       "4    289.7899  "
      ]
     },
     "execution_count": 2,
     "metadata": {},
     "output_type": "execute_result"
    }
   ],
   "source": [
    "#Import data\n",
    "\n",
    "#Find the file from a local directiory\n",
    "p = str(pathlib.Path().resolve()).replace(\"\\\\Notebooks\\\\Matching and Causal Inference\", \"\")\n",
    "p += (\"\\\\Data\\\\Raw\\\\lalonde_data.csv\")\n",
    "p = pathlib.Path(p).resolve()\n",
    "\n",
    "#Read into a pandas dataframe\n",
    "df = pd.read_csv(p)\n",
    "\n",
    "#Preview the dataset\n",
    "df.head()"
   ]
  },
  {
   "cell_type": "code",
   "execution_count": 3,
   "metadata": {},
   "outputs": [
    {
     "data": {
      "text/plain": [
       "(array([421.,  97.,  53.,  19.,  14.,   5.,   1.,   3.,   0.,   1.]),\n",
       " array([    0.   ,  2514.224,  5028.448,  7542.672, 10056.896, 12571.12 ,\n",
       "        15085.344, 17599.568, 20113.792, 22628.016, 25142.24 ]),\n",
       " <BarContainer object of 10 artists>)"
      ]
     },
     "execution_count": 3,
     "metadata": {},
     "output_type": "execute_result"
    },
    {
     "data": {
      "image/png": "[encoded data removed]",
      "text/plain": [
       "<Figure size 432x288 with 1 Axes>"
      ]
     },
     "metadata": {
      "needs_background": "light"
     },
     "output_type": "display_data"
    }
   ],
   "source": [
    "#Have a look at the distribution of the re75 column - loads of 0s here\n",
    "plt.hist(df[\"re75\"])"
   ]
  },
  {
   "cell_type": "code",
   "execution_count": 4,
   "metadata": {},
   "outputs": [
    {
     "data": {
      "text/html": [
       "<div>\n",
       "<style scoped>\n",
       "    .dataframe tbody tr th:only-of-type {\n",
       "        vertical-align: middle;\n",
       "    }\n",
       "\n",
       "    .dataframe tbody tr th {\n",
       "        vertical-align: top;\n",
       "    }\n",
       "\n",
       "    .dataframe thead th {\n",
       "        text-align: right;\n",
       "    }\n",
       "</style>\n",
       "<table border=\"1\" class=\"dataframe\">\n",
       "  <thead>\n",
       "    <tr style=\"text-align: right;\">\n",
       "      <th></th>\n",
       "      <th>treat</th>\n",
       "      <th>age</th>\n",
       "      <th>educ</th>\n",
       "      <th>black</th>\n",
       "      <th>hispan</th>\n",
       "      <th>married</th>\n",
       "      <th>nodegree</th>\n",
       "      <th>re74</th>\n",
       "      <th>re75</th>\n",
       "      <th>re78</th>\n",
       "    </tr>\n",
       "  </thead>\n",
       "  <tbody>\n",
       "    <tr>\n",
       "      <th>0</th>\n",
       "      <td>1</td>\n",
       "      <td>37</td>\n",
       "      <td>11</td>\n",
       "      <td>1</td>\n",
       "      <td>0</td>\n",
       "      <td>1</td>\n",
       "      <td>1</td>\n",
       "      <td>0.0</td>\n",
       "      <td>0.0</td>\n",
       "      <td>9930.0460</td>\n",
       "    </tr>\n",
       "    <tr>\n",
       "      <th>1</th>\n",
       "      <td>1</td>\n",
       "      <td>22</td>\n",
       "      <td>9</td>\n",
       "      <td>0</td>\n",
       "      <td>1</td>\n",
       "      <td>0</td>\n",
       "      <td>1</td>\n",
       "      <td>0.0</td>\n",
       "      <td>0.0</td>\n",
       "      <td>3595.8940</td>\n",
       "    </tr>\n",
       "    <tr>\n",
       "      <th>2</th>\n",
       "      <td>1</td>\n",
       "      <td>30</td>\n",
       "      <td>12</td>\n",
       "      <td>1</td>\n",
       "      <td>0</td>\n",
       "      <td>0</td>\n",
       "      <td>0</td>\n",
       "      <td>0.0</td>\n",
       "      <td>0.0</td>\n",
       "      <td>24909.4500</td>\n",
       "    </tr>\n",
       "    <tr>\n",
       "      <th>3</th>\n",
       "      <td>1</td>\n",
       "      <td>27</td>\n",
       "      <td>11</td>\n",
       "      <td>1</td>\n",
       "      <td>0</td>\n",
       "      <td>0</td>\n",
       "      <td>1</td>\n",
       "      <td>0.0</td>\n",
       "      <td>0.0</td>\n",
       "      <td>7506.1460</td>\n",
       "    </tr>\n",
       "    <tr>\n",
       "      <th>4</th>\n",
       "      <td>1</td>\n",
       "      <td>33</td>\n",
       "      <td>8</td>\n",
       "      <td>1</td>\n",
       "      <td>0</td>\n",
       "      <td>0</td>\n",
       "      <td>1</td>\n",
       "      <td>0.0</td>\n",
       "      <td>0.0</td>\n",
       "      <td>289.7899</td>\n",
       "    </tr>\n",
       "  </tbody>\n",
       "</table>\n",
       "</div>"
      ],
      "text/plain": [
       "   treat  age  educ  black  hispan  married  nodegree  re74  re75        re78\n",
       "0      1   37    11      1       0        1         1   0.0   0.0   9930.0460\n",
       "1      1   22     9      0       1        0         1   0.0   0.0   3595.8940\n",
       "2      1   30    12      1       0        0         0   0.0   0.0  24909.4500\n",
       "3      1   27    11      1       0        0         1   0.0   0.0   7506.1460\n",
       "4      1   33     8      1       0        0         1   0.0   0.0    289.7899"
      ]
     },
     "execution_count": 4,
     "metadata": {},
     "output_type": "execute_result"
    }
   ],
   "source": [
    "#Dropping na rows and columns as discussed above\n",
    "\n",
    "#Drop na rows\n",
    "df = df.dropna()\n",
    "\n",
    "#Drop ID column\n",
    "df = df.drop([\"ID\"], axis=1)\n",
    "\n",
    "#Show the new DataFrame\n",
    "df.head()"
   ]
  },
  {
   "cell_type": "markdown",
   "metadata": {},
   "source": [
    "## Most Simple Treatment Effect\n",
    "\n",
    "The absolutely most simple way that we can get a treatment effect is by comparing the means of the data. Currently, the data is imbalanced, with 429 untreated individuals, and 185 treated invidiuals. This method is not valid for finding causality (ie, we can't say that the treatment here \"causes\" any difference in income), as it does not take into account factors determining which people sign up for the treatment."
   ]
  },
  {
   "cell_type": "code",
   "execution_count": 5,
   "metadata": {},
   "outputs": [
    {
     "name": "stdout",
     "output_type": "stream",
     "text": [
      "6349.143530270271\n"
     ]
    }
   ],
   "source": [
    "#Find the mean income of individuals who took part in the training\n",
    "mean_treat = np.mean(df[df[\"treat\"] == 1][\"re78\"])\n",
    "\n",
    "print(mean_treat)"
   ]
  },
  {
   "cell_type": "code",
   "execution_count": 6,
   "metadata": {},
   "outputs": [
    {
     "name": "stdout",
     "output_type": "stream",
     "text": [
      "6984.169742307692\n"
     ]
    }
   ],
   "source": [
    "#Find the mean income of those who did not take part in the training\n",
    "mean_control = np.mean(df[df[\"treat\"] == 0][\"re78\"])\n",
    "\n",
    "print(mean_control)"
   ]
  },
  {
   "cell_type": "code",
   "execution_count": 7,
   "metadata": {},
   "outputs": [
    {
     "name": "stdout",
     "output_type": "stream",
     "text": [
      "Estimated treatment effect: $-635.0262120374209\n"
     ]
    }
   ],
   "source": [
    "print(f\"Estimated treatment effect: ${mean_treat - mean_control}\")"
   ]
  },
  {
   "cell_type": "markdown",
   "metadata": {},
   "source": [
    "We see here that the mean income for those taking the treatment is lower! Is the treatment worse than nothing?"
   ]
  },
  {
   "cell_type": "markdown",
   "metadata": {},
   "source": [
    "## Data Exploration\n",
    "\n",
    "From a bit of exploration, we can see that the distribution of individuals in each group is really different. This tells us, like we might expect, that the types of people that take part in the treatment programme are different to those who don't. We can see straight away, for example, that the ages of those in the treatment group are generally younger than those in the control group."
   ]
  },
  {
   "cell_type": "code",
   "execution_count": 8,
   "metadata": {},
   "outputs": [
    {
     "data": {
      "text/plain": [
       "(614, 10)"
      ]
     },
     "execution_count": 8,
     "metadata": {},
     "output_type": "execute_result"
    }
   ],
   "source": [
    "#How many observations are there?\n",
    "df.shape"
   ]
  },
  {
   "cell_type": "code",
   "execution_count": 9,
   "metadata": {},
   "outputs": [
    {
     "data": {
      "text/plain": [
       "185"
      ]
     },
     "execution_count": 9,
     "metadata": {},
     "output_type": "execute_result"
    }
   ],
   "source": [
    "#How many of these received the treatment?\n",
    "len(df[df[\"treat\"] == 1])"
   ]
  },
  {
   "cell_type": "code",
   "execution_count": 10,
   "metadata": {},
   "outputs": [
    {
     "data": {
      "text/plain": [
       "<matplotlib.legend.Legend at 0x16275a04c50>"
      ]
     },
     "execution_count": 10,
     "metadata": {},
     "output_type": "execute_result"
    },
    {
     "data": {
      "image/png": "[encoded data removed]",
      "text/plain": [
       "<Figure size 432x288 with 1 Axes>"
      ]
     },
     "metadata": {
      "needs_background": "light"
     },
     "output_type": "display_data"
    }
   ],
   "source": [
    "#Plot the treated and control group's age distribution\n",
    "plt.hist(df[df[\"treat\"] == 0][\"age\"], label=\"0, control\", bins=15, density=True, alpha=0.9)\n",
    "plt.hist(df[df[\"treat\"] == 1][\"age\"], label=\"1, treatment\", bins=15, density=True, alpha=0.7)\n",
    "\n",
    "plt.title(\"Distribution of ages in treatment and control groups\")\n",
    "plt.legend()"
   ]
  },
  {
   "cell_type": "markdown",
   "metadata": {},
   "source": [
    "We don't really need to understand the difference in distributions past here in this case, as we have shown that they're different. We'll fix this in matching later - so we can approximate a causal relationship.\n",
    "\n",
    "However, we can look at a couple of our other covariates, just to drive home the point of the difference, and the effect of self-selection on the groups"
   ]
  },
  {
   "cell_type": "code",
   "execution_count": 11,
   "metadata": {},
   "outputs": [
    {
     "data": {
      "text/plain": [
       "<matplotlib.legend.Legend at 0x16275abe9b0>"
      ]
     },
     "execution_count": 11,
     "metadata": {},
     "output_type": "execute_result"
    },
    {
     "data": {
      "image/png": "[encoded data removed]",
      "text/plain": [
       "<Figure size 432x288 with 1 Axes>"
      ]
     },
     "metadata": {
      "needs_background": "light"
     },
     "output_type": "display_data"
    }
   ],
   "source": [
    "#Plot the treated and control group's education distribution\n",
    "plt.hist(df[df[\"treat\"] == 0][\"educ\"], label=\"0, control\", bins=15, density=True, alpha=0.9)\n",
    "plt.hist(df[df[\"treat\"] == 1][\"educ\"], label=\"1, treatment\", bins=15, density=True, alpha=0.7)\n",
    "\n",
    "plt.title(\"Distribution of education in treatment and control groups\")\n",
    "plt.legend()"
   ]
  },
  {
   "cell_type": "code",
   "execution_count": 12,
   "metadata": {},
   "outputs": [
    {
     "data": {
      "text/plain": [
       "<matplotlib.legend.Legend at 0x16275b8e1d0>"
      ]
     },
     "execution_count": 12,
     "metadata": {},
     "output_type": "execute_result"
    },
    {
     "data": {
      "image/png": "[encoded data removed]",
      "text/plain": [
       "<Figure size 432x288 with 1 Axes>"
      ]
     },
     "metadata": {
      "needs_background": "light"
     },
     "output_type": "display_data"
    }
   ],
   "source": [
    "#Plot the treated and control group's racial distribution\n",
    "plt.hist(df[df[\"treat\"] == 0][\"black\"], label=\"0, control\", bins=15, density=True, alpha=0.9)\n",
    "plt.hist(df[df[\"treat\"] == 1][\"black\"], label=\"1, treatment\", bins=15, density=True, alpha=0.7)\n",
    "\n",
    "plt.title(\"Distribution of black people in treatment and control groups\")\n",
    "plt.legend()"
   ]
  },
  {
   "cell_type": "markdown",
   "metadata": {},
   "source": [
    "## Slightly More Complex - A Linear Regression\n",
    "\n",
    "One of the more valid methods that we can use to try to find the effect of the treatment is a linear regression. This takes into account differences in the covariates (or confounding variables), to find a difference associated with taking part in the treatment. We can implement this in Scikit-Learn, or the causalinference library that we're using for the other analysis in this notebook.\n",
    "\n",
    "If you're unfamiliar with the methods of linear regressions, check out the article on these methods, to see the maths behind how they work. Otherwise, in simple terms, we are fitting a best-fit line to our data across many dimensions (independent variables). We can then find the slope of this line across each one of the dimensions, to find an *associated* increase with this variable. Keep in mind that this is a correlation!"
   ]
  },
  {
   "cell_type": "code",
   "execution_count": 13,
   "metadata": {},
   "outputs": [
    {
     "data": {
      "text/html": [
       "<div>\n",
       "<style scoped>\n",
       "    .dataframe tbody tr th:only-of-type {\n",
       "        vertical-align: middle;\n",
       "    }\n",
       "\n",
       "    .dataframe tbody tr th {\n",
       "        vertical-align: top;\n",
       "    }\n",
       "\n",
       "    .dataframe thead th {\n",
       "        text-align: right;\n",
       "    }\n",
       "</style>\n",
       "<table border=\"1\" class=\"dataframe\">\n",
       "  <thead>\n",
       "    <tr style=\"text-align: right;\">\n",
       "      <th></th>\n",
       "      <th>treat</th>\n",
       "      <th>age</th>\n",
       "      <th>educ</th>\n",
       "      <th>black</th>\n",
       "      <th>hispan</th>\n",
       "      <th>married</th>\n",
       "      <th>nodegree</th>\n",
       "      <th>re74</th>\n",
       "      <th>re75</th>\n",
       "      <th>re78</th>\n",
       "    </tr>\n",
       "  </thead>\n",
       "  <tbody>\n",
       "    <tr>\n",
       "      <th>treat</th>\n",
       "      <td>1.000000</td>\n",
       "      <td>-0.102893</td>\n",
       "      <td>0.019308</td>\n",
       "      <td>0.600907</td>\n",
       "      <td>-0.117983</td>\n",
       "      <td>-0.301334</td>\n",
       "      <td>0.105857</td>\n",
       "      <td>-0.249779</td>\n",
       "      <td>-0.130197</td>\n",
       "      <td>-0.039033</td>\n",
       "    </tr>\n",
       "    <tr>\n",
       "      <th>age</th>\n",
       "      <td>-0.102893</td>\n",
       "      <td>1.000000</td>\n",
       "      <td>-0.125622</td>\n",
       "      <td>-0.110730</td>\n",
       "      <td>-0.053400</td>\n",
       "      <td>0.376059</td>\n",
       "      <td>-0.069218</td>\n",
       "      <td>0.333254</td>\n",
       "      <td>0.140022</td>\n",
       "      <td>0.106249</td>\n",
       "    </tr>\n",
       "    <tr>\n",
       "      <th>educ</th>\n",
       "      <td>0.019308</td>\n",
       "      <td>-0.125622</td>\n",
       "      <td>1.000000</td>\n",
       "      <td>-0.010528</td>\n",
       "      <td>-0.174153</td>\n",
       "      <td>-0.095051</td>\n",
       "      <td>-0.701452</td>\n",
       "      <td>0.136583</td>\n",
       "      <td>0.018301</td>\n",
       "      <td>0.161538</td>\n",
       "    </tr>\n",
       "    <tr>\n",
       "      <th>black</th>\n",
       "      <td>0.600907</td>\n",
       "      <td>-0.110730</td>\n",
       "      <td>-0.010528</td>\n",
       "      <td>1.000000</td>\n",
       "      <td>-0.294973</td>\n",
       "      <td>-0.317118</td>\n",
       "      <td>0.109278</td>\n",
       "      <td>-0.257334</td>\n",
       "      <td>-0.140374</td>\n",
       "      <td>-0.120977</td>\n",
       "    </tr>\n",
       "    <tr>\n",
       "      <th>hispan</th>\n",
       "      <td>-0.117983</td>\n",
       "      <td>-0.053400</td>\n",
       "      <td>-0.174153</td>\n",
       "      <td>-0.294973</td>\n",
       "      <td>1.000000</td>\n",
       "      <td>0.021549</td>\n",
       "      <td>0.100869</td>\n",
       "      <td>-0.007091</td>\n",
       "      <td>0.061589</td>\n",
       "      <td>0.015325</td>\n",
       "    </tr>\n",
       "    <tr>\n",
       "      <th>married</th>\n",
       "      <td>-0.301334</td>\n",
       "      <td>0.376059</td>\n",
       "      <td>-0.095051</td>\n",
       "      <td>-0.317118</td>\n",
       "      <td>0.021549</td>\n",
       "      <td>1.000000</td>\n",
       "      <td>-0.032349</td>\n",
       "      <td>0.425739</td>\n",
       "      <td>0.353824</td>\n",
       "      <td>0.162358</td>\n",
       "    </tr>\n",
       "    <tr>\n",
       "      <th>nodegree</th>\n",
       "      <td>0.105857</td>\n",
       "      <td>-0.069218</td>\n",
       "      <td>-0.701452</td>\n",
       "      <td>0.109278</td>\n",
       "      <td>0.100869</td>\n",
       "      <td>-0.032349</td>\n",
       "      <td>1.000000</td>\n",
       "      <td>-0.208751</td>\n",
       "      <td>-0.070412</td>\n",
       "      <td>-0.142418</td>\n",
       "    </tr>\n",
       "    <tr>\n",
       "      <th>re74</th>\n",
       "      <td>-0.249779</td>\n",
       "      <td>0.333254</td>\n",
       "      <td>0.136583</td>\n",
       "      <td>-0.257334</td>\n",
       "      <td>-0.007091</td>\n",
       "      <td>0.425739</td>\n",
       "      <td>-0.208751</td>\n",
       "      <td>1.000000</td>\n",
       "      <td>0.552002</td>\n",
       "      <td>0.343416</td>\n",
       "    </tr>\n",
       "    <tr>\n",
       "      <th>re75</th>\n",
       "      <td>-0.130197</td>\n",
       "      <td>0.140022</td>\n",
       "      <td>0.018301</td>\n",
       "      <td>-0.140374</td>\n",
       "      <td>0.061589</td>\n",
       "      <td>0.353824</td>\n",
       "      <td>-0.070412</td>\n",
       "      <td>0.552002</td>\n",
       "      <td>1.000000</td>\n",
       "      <td>0.257659</td>\n",
       "    </tr>\n",
       "    <tr>\n",
       "      <th>re78</th>\n",
       "      <td>-0.039033</td>\n",
       "      <td>0.106249</td>\n",
       "      <td>0.161538</td>\n",
       "      <td>-0.120977</td>\n",
       "      <td>0.015325</td>\n",
       "      <td>0.162358</td>\n",
       "      <td>-0.142418</td>\n",
       "      <td>0.343416</td>\n",
       "      <td>0.257659</td>\n",
       "      <td>1.000000</td>\n",
       "    </tr>\n",
       "  </tbody>\n",
       "</table>\n",
       "</div>"
      ],
      "text/plain": [
       "             treat       age      educ     black    hispan   married  \\\n",
       "treat     1.000000 -0.102893  0.019308  0.600907 -0.117983 -0.301334   \n",
       "age      -0.102893  1.000000 -0.125622 -0.110730 -0.053400  0.376059   \n",
       "educ      0.019308 -0.125622  1.000000 -0.010528 -0.174153 -0.095051   \n",
       "black     0.600907 -0.110730 -0.010528  1.000000 -0.294973 -0.317118   \n",
       "hispan   -0.117983 -0.053400 -0.174153 -0.294973  1.000000  0.021549   \n",
       "married  -0.301334  0.376059 -0.095051 -0.317118  0.021549  1.000000   \n",
       "nodegree  0.105857 -0.069218 -0.701452  0.109278  0.100869 -0.032349   \n",
       "re74     -0.249779  0.333254  0.136583 -0.257334 -0.007091  0.425739   \n",
       "re75     -0.130197  0.140022  0.018301 -0.140374  0.061589  0.353824   \n",
       "re78     -0.039033  0.106249  0.161538 -0.120977  0.015325  0.162358   \n",
       "\n",
       "          nodegree      re74      re75      re78  \n",
       "treat     0.105857 -0.249779 -0.130197 -0.039033  \n",
       "age      -0.069218  0.333254  0.140022  0.106249  \n",
       "educ     -0.701452  0.136583  0.018301  0.161538  \n",
       "black     0.109278 -0.257334 -0.140374 -0.120977  \n",
       "hispan    0.100869 -0.007091  0.061589  0.015325  \n",
       "married  -0.032349  0.425739  0.353824  0.162358  \n",
       "nodegree  1.000000 -0.208751 -0.070412 -0.142418  \n",
       "re74     -0.208751  1.000000  0.552002  0.343416  \n",
       "re75     -0.070412  0.552002  1.000000  0.257659  \n",
       "re78     -0.142418  0.343416  0.257659  1.000000  "
      ]
     },
     "execution_count": 13,
     "metadata": {},
     "output_type": "execute_result"
    }
   ],
   "source": [
    "#Firstly we check for autocorrelation, something that can affect the regression\n",
    "\n",
    "#Display a matrix of correlation coefficients (r)\n",
    "corr = df.corr()\n",
    "corr"
   ]
  },
  {
   "cell_type": "code",
   "execution_count": 14,
   "metadata": {},
   "outputs": [
    {
     "data": {
      "text/plain": [
       "<matplotlib.colorbar.Colorbar at 0x16275cb57b8>"
      ]
     },
     "execution_count": 14,
     "metadata": {},
     "output_type": "execute_result"
    },
    {
     "data": {
      "image/png": "[encoded data removed]",
      "text/plain": [
       "<Figure size 432x288 with 2 Axes>"
      ]
     },
     "metadata": {
      "needs_background": "light"
     },
     "output_type": "display_data"
    }
   ],
   "source": [
    "plt.imshow(corr, cmap=\"hot\")\n",
    "plt.colorbar()"
   ]
  },
  {
   "cell_type": "markdown",
   "metadata": {},
   "source": [
    "The autocorrelation here isn't ideal, but no values meet our threshold for being dropped."
   ]
  },
  {
   "cell_type": "code",
   "execution_count": 15,
   "metadata": {},
   "outputs": [],
   "source": [
    "#Split dependent variable from other covariates\n",
    "\n",
    "X = df.drop(\"re78\", axis=1)\n",
    "y = df[\"re78\"]"
   ]
  },
  {
   "cell_type": "code",
   "execution_count": 16,
   "metadata": {},
   "outputs": [
    {
     "data": {
      "text/plain": [
       "LinearRegression()"
      ]
     },
     "execution_count": 16,
     "metadata": {},
     "output_type": "execute_result"
    }
   ],
   "source": [
    "#Train a linear regression\n",
    "\n",
    "reg = linear_model.LinearRegression()\n",
    "\n",
    "reg.fit(X, y)"
   ]
  },
  {
   "cell_type": "code",
   "execution_count": 17,
   "metadata": {},
   "outputs": [
    {
     "name": "stdout",
     "output_type": "stream",
     "text": [
      "treat: 1548.2438019996032\n",
      "age: 12.977633712836582\n",
      "educ: 403.9412308557339\n",
      "black: -1240.6440820318776\n",
      "hispan: 498.8968649589451\n",
      "married: 406.6208454241389\n",
      "nodegree: 259.8173680421699\n",
      "re74: 0.29637744288605106\n",
      "re75: 0.23152587573791328\n",
      "Intercept: 66.51451970467042\n"
     ]
    }
   ],
   "source": [
    "#Find the coefficients for each variable\n",
    "for i, name in enumerate(X.columns):\n",
    "    print(f\"{name}: {reg.coef_[i]}\")\n",
    "\n",
    "print(f\"Intercept: {reg.intercept_}\")"
   ]
  },
  {
   "cell_type": "code",
   "execution_count": 18,
   "metadata": {},
   "outputs": [
    {
     "name": "stdout",
     "output_type": "stream",
     "text": [
      "\n",
      "Treatment Effect Estimates: OLS\n",
      "\n",
      "                     Est.       S.e.          z      P>|z|      [95% Conf. int.]\n",
      "--------------------------------------------------------------------------------\n",
      "           ATE   1548.244    734.521      2.108      0.035    108.584   2987.904\n",
      "\n"
     ]
    },
    {
     "name": "stderr",
     "output_type": "stream",
     "text": [
      "C:\\Users\\Cameron\\Anaconda3\\lib\\site-packages\\causalinference\\estimators\\ols.py:21: FutureWarning: `rcond` parameter will change to the default of machine precision times ``max(M, N)`` where M and N are the input matrix dimensions.\n",
      "To use the future default and silence this warning we advise to pass `rcond=None`, to keep using the old, explicitly pass `rcond=-1`.\n",
      "  olscoef = np.linalg.lstsq(Z, Y)[0]\n"
     ]
    }
   ],
   "source": [
    "#Show that using causalinference we get the same associated treatment effect:\n",
    "\n",
    "#Define the model\n",
    "# Y is the dependent variable, D is the treatment indicator, and X is the covariates / confounding variables\n",
    "# We will continue using this model through the rest of the notebook - lines 6-9 are important to run\n",
    "# even if you don't perform the linear regression!\n",
    "causal = CausalModel(\n",
    "    Y=df['re78'].values, \n",
    "    D=df['treat'].values, \n",
    "    X=df[[\"age\", \"educ\", \"black\", \"hispan\", \"married\", \"nodegree\", \"re74\", \"re75\"]].values)\n",
    "\n",
    "#Train the model with a linear regression\n",
    "# adj=1 tells the model to perform a linear regression\n",
    "# adj=0 would perform our \"most simple estimate\", \n",
    "# and adj=2 would perform a degree 2 polynomial regresssion\n",
    "causal.est_via_ols(adj=1)\n",
    "\n",
    "#Print out the results\n",
    "print(causal.estimates)"
   ]
  },
  {
   "cell_type": "markdown",
   "metadata": {},
   "source": [
    "Here, we find a treatment effect of \\\\$1548.24 - suggesting that the treatment has quite a positive effect on people's income. However, this is only a correlation, and as always, we can't say the treatment causes this - there is still the self-selection of people enrolling in the treatment. An interesting result from the causalinference package is the 95\\% confidence interval - from this we can say that if we repeated the whole experiment, 95\\% of the time we expect our estimated treatment effect to lie between \\\\$108.54 and \\\\$2987.90. In other words, we're over 97.5\\% sure that the treatment is associated with a positive effect. Unfortunately though, we cannot say for sure that the true value is in our 95\\% confidence interval.\n",
    "\n",
    "As such, we can say from this that participation in the treatment is associated with an increase of $1548 in income in 1978. However, this disagrees with our most simple method. In general, we would trust the linear regression here, as it is a more valid method for comparison, and the p-value is sufficiently low to reject a null hypothesis of no impact.\n",
    "\n",
    "Can we do better still? Yes - next comes matching"
   ]
  },
  {
   "cell_type": "markdown",
   "metadata": {},
   "source": [
    "## Matching to Infer Causality\n",
    "\n",
    "In matching, we find matches for each treated individual that are similar across the other variables that we have values for. To achieve this, we need to have overlap between our treated and untreated group, so we can maximise the balance by matching. To check this balance, we can look at the summary statistics, to find the normalised difference between the groups for each variable. This is done below, with our already defined causal model.\n",
    "\n",
    "The normalised difference metric (Nor-diff) that we look at is defined by Imbens & Rubin (2015), and is a measure of the overlap between two groups. We will use a cutoff of absolute value greater than 0.5 to determine when two variables are unbalanced. Initially, there are several unbalanced variables (X2, X4 and X6), that we can begin to work on."
   ]
  },
  {
   "cell_type": "code",
   "execution_count": 19,
   "metadata": {},
   "outputs": [
    {
     "name": "stdout",
     "output_type": "stream",
     "text": [
      "\n",
      "Summary Statistics\n",
      "\n",
      "                       Controls (N_c=429)         Treated (N_t=185)             \n",
      "       Variable         Mean         S.d.         Mean         S.d.     Raw-diff\n",
      "--------------------------------------------------------------------------------\n",
      "              Y     6984.170     7294.162     6349.144     7867.402     -635.026\n",
      "\n",
      "                       Controls (N_c=429)         Treated (N_t=185)             \n",
      "       Variable         Mean         S.d.         Mean         S.d.     Nor-diff\n",
      "--------------------------------------------------------------------------------\n",
      "             X0       28.030       10.787       25.816        7.155       -0.242\n",
      "             X1       10.235        2.855       10.346        2.011        0.045\n",
      "             X2        0.203        0.403        0.843        0.365        1.668\n",
      "             X3        0.142        0.350        0.059        0.237       -0.277\n",
      "             X4        0.513        0.500        0.189        0.393       -0.719\n",
      "             X5        0.597        0.491        0.708        0.456        0.235\n",
      "             X6     5619.237     6788.751     2095.574     4886.620       -0.596\n",
      "             X7     2466.484     3291.996     1532.055     3219.251       -0.287\n",
      "\n"
     ]
    }
   ],
   "source": [
    "print(causal.summary_stats)"
   ]
  },
  {
   "cell_type": "markdown",
   "metadata": {},
   "source": [
    "The first thing that we can do to improve the balance of the groups is to remove outliers. In this case, we will estimate the propensity score (probability that an individual would be selected for the treatment) for each person. Next, we remove those who are extremely unlikely to be selected for the treatment, or who are extremely likely to be selected for the treatment."
   ]
  },
  {
   "cell_type": "code",
   "execution_count": 20,
   "metadata": {},
   "outputs": [],
   "source": [
    "#Estimate propensity scores for each person in the dataset\n",
    "causal.est_propensity_s()"
   ]
  },
  {
   "cell_type": "code",
   "execution_count": 21,
   "metadata": {},
   "outputs": [],
   "source": [
    "#Remove the outliers here - propensity score less than 0.1 or more than 0.9 by default\n",
    "causal.trim_s()"
   ]
  },
  {
   "cell_type": "code",
   "execution_count": 22,
   "metadata": {},
   "outputs": [
    {
     "name": "stdout",
     "output_type": "stream",
     "text": [
      "\n",
      "Summary Statistics\n",
      "\n",
      "                       Controls (N_c=157)         Treated (N_t=140)             \n",
      "       Variable         Mean         S.d.         Mean         S.d.     Raw-diff\n",
      "--------------------------------------------------------------------------------\n",
      "              Y     5476.633     6020.122     6351.987     6397.833      875.353\n",
      "\n",
      "                       Controls (N_c=157)         Treated (N_t=140)             \n",
      "       Variable         Mean         S.d.         Mean         S.d.     Nor-diff\n",
      "--------------------------------------------------------------------------------\n",
      "             X0       23.777        7.418       24.986        7.510        0.162\n",
      "             X1       10.210        2.405       10.329        2.177        0.052\n",
      "             X2        0.471        0.501        0.836        0.372        0.826\n",
      "             X3        0.248        0.433        0.071        0.258       -0.496\n",
      "             X4        0.261        0.441        0.221        0.417       -0.093\n",
      "             X5        0.650        0.479        0.664        0.474        0.031\n",
      "             X6     2673.838     4479.406     2110.413     4215.220       -0.130\n",
      "             X7     1906.682     3082.253     1635.661     3414.688       -0.083\n",
      "\n"
     ]
    }
   ],
   "source": [
    "#View the balance again\n",
    "print(causal.summary_stats)"
   ]
  },
  {
   "cell_type": "markdown",
   "metadata": {},
   "source": [
    "This is slightly better - now only X2 (\"black\") has a value above the cutoff. We can now attempt matching to find our average treatment effect.\n",
    "\n",
    "Firstly, we match each treated observation to a single untreated observation. This gives us an average treatment effect (ATE) of \\\\$383.51, though the p-value shows this is not a significant difference, and the confidence interval shows just how different we might expect our treatment effect to be if we repeated the experiment.\n",
    "\n",
    "The other estimators (ATC and ATT) represent the average treatment effect for those in the control group, and treatment group, respectively. From here, we suggest that the treatment might have been more effective for those in the control group, had they decided to take it up. However, again, these results are not significant, and the p-values are high enough for it to be likely that there is no difference between the groups, and the variation is down to chance alone."
   ]
  },
  {
   "cell_type": "code",
   "execution_count": 23,
   "metadata": {},
   "outputs": [
    {
     "name": "stdout",
     "output_type": "stream",
     "text": [
      "\n",
      "Treatment Effect Estimates: Matching\n",
      "\n",
      "                     Est.       S.e.          z      P>|z|      [95% Conf. int.]\n",
      "--------------------------------------------------------------------------------\n",
      "           ATE    383.508   1206.472      0.318      0.751  -1981.177   2748.193\n",
      "           ATC    594.156   1504.175      0.395      0.693  -2354.027   3542.338\n",
      "           ATT    147.281   1368.636      0.108      0.914  -2535.245   2829.807\n",
      "\n"
     ]
    },
    {
     "name": "stderr",
     "output_type": "stream",
     "text": [
      "C:\\Users\\Cameron\\Anaconda3\\lib\\site-packages\\causalinference\\estimators\\matching.py:100: FutureWarning: `rcond` parameter will change to the default of machine precision times ``max(M, N)`` where M and N are the input matrix dimensions.\n",
      "To use the future default and silence this warning we advise to pass `rcond=None`, to keep using the old, explicitly pass `rcond=-1`.\n",
      "  return np.linalg.lstsq(X, Y)[0][1:]  # don't need intercept coef\n"
     ]
    }
   ],
   "source": [
    "#Match to a single control observation\n",
    "causal.est_via_matching(bias_adj=True, matches=1)\n",
    "print(causal.estimates)"
   ]
  },
  {
   "cell_type": "markdown",
   "metadata": {},
   "source": [
    "Next, we can allow for multiple matches. This means that each treated observation is matched to several untreated observations, and the ATE is estimated again.\n",
    "\n",
    "With 2 matches per treated individual, we find an average treatment effect of \\\\$696.52. However, we still can't say that this is significant, due to our p-value of 0.464. With 4 matches, we find an estimated average treatment effect of \\\\$1027.09, which is more similar to our regressional value, though still not significant."
   ]
  },
  {
   "cell_type": "code",
   "execution_count": 24,
   "metadata": {},
   "outputs": [
    {
     "name": "stdout",
     "output_type": "stream",
     "text": [
      "\n",
      "Treatment Effect Estimates: Matching\n",
      "\n",
      "                     Est.       S.e.          z      P>|z|      [95% Conf. int.]\n",
      "--------------------------------------------------------------------------------\n",
      "           ATE    696.523    951.769      0.732      0.464  -1168.945   2561.990\n",
      "           ATC    318.389   1110.114      0.287      0.774  -1857.435   2494.213\n",
      "           ATT   1120.572   1040.227      1.077      0.281   -918.273   3159.417\n",
      "\n"
     ]
    }
   ],
   "source": [
    "#Match to a single control observation\n",
    "causal.est_via_matching(bias_adj=True, matches=2)\n",
    "print(causal.estimates)"
   ]
  },
  {
   "cell_type": "code",
   "execution_count": 25,
   "metadata": {},
   "outputs": [
    {
     "name": "stdout",
     "output_type": "stream",
     "text": [
      "\n",
      "Treatment Effect Estimates: Matching\n",
      "\n",
      "                     Est.       S.e.          z      P>|z|      [95% Conf. int.]\n",
      "--------------------------------------------------------------------------------\n",
      "           ATE   1027.087    883.785      1.162      0.245   -705.131   2759.305\n",
      "           ATC    754.217   1006.164      0.750      0.453  -1217.865   2726.298\n",
      "           ATT   1333.092    937.670      1.422      0.155   -504.741   3170.925\n",
      "\n"
     ]
    }
   ],
   "source": [
    "#Match to a single control observation\n",
    "causal.est_via_matching(bias_adj=True, matches=4)\n",
    "print(causal.estimates)"
   ]
  },
  {
   "cell_type": "markdown",
   "metadata": {},
   "source": [
    "## Conclusions\n",
    "\n",
    "From what we see in matching, we can get a better idea of the effect of the treatment, including a p-value to know if the treatment has a significant effect on the population. In this case, because of the high p-values, we can't rule out that the difference in groups is only due to chance, similarly to the predictions made by Lalonde (1986) intitially.\n",
    "\n",
    "However, when working with data from separate groups, we can infer causation much more strongly this way - if we had gotten significant results, we would be much happier in inferring that the cause of the increase was self-selection in the treatment (note this is not directly participation in the treatment, as all we know is about the type of person likely to select themselves for the treatment, as they may work in other ways to improve their income differently to those in the control group). With non-human participants, ie plants or other organisms, we could control more factors and know more about the impact of the treatment itself."
   ]
  },
  {
   "cell_type": "markdown",
   "metadata": {},
   "source": [
    "## References\n",
    "\n",
    "Imbens, G. W., & Rubin, D. B. (2015). Causal inference in statistics, social, and biomedical sciences. Cambridge University Press.\n",
    "\n",
    "LaLonde, R. J. (1986). Evaluating the econometric evaluations of training programs with experimental data. The American economic review, 604-620. https://www.jstor.org/stable/1806062?seq=1#metadata_info_tab_contents"
   ]
  }
 ],
 "metadata": {
  "kernelspec": {
   "display_name": "Python 3",
   "language": "python",
   "name": "python3"
  },
  "language_info": {
   "codemirror_mode": {
    "name": "ipython",
    "version": 3
   },
   "file_extension": ".py",
   "mimetype": "text/x-python",
   "name": "python",
   "nbconvert_exporter": "python",
   "pygments_lexer": "ipython3",
   "version": "3.6.12"
  }
 },
 "nbformat": 4,
 "nbformat_minor": 4
}
