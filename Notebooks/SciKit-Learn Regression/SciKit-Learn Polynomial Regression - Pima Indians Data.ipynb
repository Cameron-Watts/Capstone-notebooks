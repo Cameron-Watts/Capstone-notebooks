{
 "cells": [
  {
   "cell_type": "markdown",
   "metadata": {},
   "source": [
    "# Polynomial Regression of Blood Glucose Level\n",
    "\n",
    "Data downloaded from Kaggle at https://www.kaggle.com/uciml/pima-indians-diabetes-database\n",
    "\n",
    "## Importing Packages"
   ]
  },
  {
   "cell_type": "code",
   "execution_count": 1,
   "metadata": {},
   "outputs": [],
   "source": [
    "##Import packages\n",
    "\n",
    "#Data Processing\n",
    "import pandas as pd\n",
    "import numpy as np\n",
    "\n",
    "#Finding the data on our system\n",
    "import pathlib\n",
    "\n",
    "#Linear regression\n",
    "from sklearn import linear_model\n",
    "\n",
    "#Extra SciKit-Learn functions to create a polynomial regression\n",
    "from sklearn.preprocessing import PolynomialFeatures\n",
    "from sklearn.pipeline import Pipeline\n",
    "\n",
    "#Metrics to evaluate\n",
    "from sklearn.metrics import mean_squared_error\n",
    "from sklearn.metrics import explained_variance_score\n",
    "\n",
    "#Plotting library\n",
    "import matplotlib.pyplot as plt"
   ]
  },
  {
   "cell_type": "markdown",
   "metadata": {},
   "source": [
    "## Importing Data"
   ]
  },
  {
   "cell_type": "code",
   "execution_count": 2,
   "metadata": {},
   "outputs": [
    {
     "data": {
      "text/html": [
       "<div>\n",
       "<style scoped>\n",
       "    .dataframe tbody tr th:only-of-type {\n",
       "        vertical-align: middle;\n",
       "    }\n",
       "\n",
       "    .dataframe tbody tr th {\n",
       "        vertical-align: top;\n",
       "    }\n",
       "\n",
       "    .dataframe thead th {\n",
       "        text-align: right;\n",
       "    }\n",
       "</style>\n",
       "<table border=\"1\" class=\"dataframe\">\n",
       "  <thead>\n",
       "    <tr style=\"text-align: right;\">\n",
       "      <th></th>\n",
       "      <th>Pregnancies</th>\n",
       "      <th>Glucose</th>\n",
       "      <th>BloodPressure</th>\n",
       "      <th>SkinThickness</th>\n",
       "      <th>Insulin</th>\n",
       "      <th>BMI</th>\n",
       "      <th>DiabetesPedigreeFunction</th>\n",
       "      <th>Age</th>\n",
       "      <th>Outcome</th>\n",
       "    </tr>\n",
       "  </thead>\n",
       "  <tbody>\n",
       "    <tr>\n",
       "      <th>0</th>\n",
       "      <td>6</td>\n",
       "      <td>148</td>\n",
       "      <td>72</td>\n",
       "      <td>35</td>\n",
       "      <td>0</td>\n",
       "      <td>33.6</td>\n",
       "      <td>0.627</td>\n",
       "      <td>50</td>\n",
       "      <td>1</td>\n",
       "    </tr>\n",
       "    <tr>\n",
       "      <th>1</th>\n",
       "      <td>1</td>\n",
       "      <td>85</td>\n",
       "      <td>66</td>\n",
       "      <td>29</td>\n",
       "      <td>0</td>\n",
       "      <td>26.6</td>\n",
       "      <td>0.351</td>\n",
       "      <td>31</td>\n",
       "      <td>0</td>\n",
       "    </tr>\n",
       "    <tr>\n",
       "      <th>2</th>\n",
       "      <td>8</td>\n",
       "      <td>183</td>\n",
       "      <td>64</td>\n",
       "      <td>0</td>\n",
       "      <td>0</td>\n",
       "      <td>23.3</td>\n",
       "      <td>0.672</td>\n",
       "      <td>32</td>\n",
       "      <td>1</td>\n",
       "    </tr>\n",
       "    <tr>\n",
       "      <th>3</th>\n",
       "      <td>1</td>\n",
       "      <td>89</td>\n",
       "      <td>66</td>\n",
       "      <td>23</td>\n",
       "      <td>94</td>\n",
       "      <td>28.1</td>\n",
       "      <td>0.167</td>\n",
       "      <td>21</td>\n",
       "      <td>0</td>\n",
       "    </tr>\n",
       "    <tr>\n",
       "      <th>4</th>\n",
       "      <td>0</td>\n",
       "      <td>137</td>\n",
       "      <td>40</td>\n",
       "      <td>35</td>\n",
       "      <td>168</td>\n",
       "      <td>43.1</td>\n",
       "      <td>2.288</td>\n",
       "      <td>33</td>\n",
       "      <td>1</td>\n",
       "    </tr>\n",
       "  </tbody>\n",
       "</table>\n",
       "</div>"
      ],
      "text/plain": [
       "   Pregnancies  Glucose  BloodPressure  SkinThickness  Insulin   BMI  \\\n",
       "0            6      148             72             35        0  33.6   \n",
       "1            1       85             66             29        0  26.6   \n",
       "2            8      183             64              0        0  23.3   \n",
       "3            1       89             66             23       94  28.1   \n",
       "4            0      137             40             35      168  43.1   \n",
       "\n",
       "   DiabetesPedigreeFunction  Age  Outcome  \n",
       "0                     0.627   50        1  \n",
       "1                     0.351   31        0  \n",
       "2                     0.672   32        1  \n",
       "3                     0.167   21        0  \n",
       "4                     2.288   33        1  "
      ]
     },
     "execution_count": 2,
     "metadata": {},
     "output_type": "execute_result"
    }
   ],
   "source": [
    "##Import data from another directory\n",
    "\n",
    "#Find the file from a local directiory\n",
    "p = str(pathlib.Path().resolve()).replace(\"\\\\Notebooks\\\\SciKit-Learn Regression\", \"\")\n",
    "p += (\"\\\\Data\\\\Raw\\\\Pima_Indians.csv\")\n",
    "p = pathlib.Path(p).resolve()\n",
    "\n",
    "#Read into a pandas dataframe\n",
    "df = pd.read_csv(p)\n",
    "\n",
    "#Preview the dataset\n",
    "df.head()"
   ]
  },
  {
   "cell_type": "markdown",
   "metadata": {},
   "source": [
    "## Removing Rows for Test Data\n",
    "\n",
    "A vital part of machine learning is being able to test with data that the model is not trained on. This means that we can test the generalisability of our regression with this data. We use SciKit-Learn's train_test_split in order to take 20% of the data at random to be test data.\n",
    "\n",
    "We also rename the training portions of the data accordingly."
   ]
  },
  {
   "cell_type": "code",
   "execution_count": 3,
   "metadata": {},
   "outputs": [],
   "source": [
    "from sklearn.model_selection import train_test_split\n",
    "\n",
    "X = df.drop([\"Glucose\"], axis=1)\n",
    "y = df[\"Glucose\"]\n",
    "\n",
    "training_x, test_x, training_y, test_y = train_test_split(X, y, test_size=0.2, random_state=0)"
   ]
  },
  {
   "cell_type": "markdown",
   "metadata": {},
   "source": [
    "## Testing for Multicollinearity\n",
    "\n",
    "For this dataset, we did this in the previous section (Linear regression), so we do not need to do this again."
   ]
  },
  {
   "cell_type": "markdown",
   "metadata": {},
   "source": [
    "## Creating Pipeline\n",
    "\n",
    "As a polynomial regression requires the applying of two functions to our data (PolynomialFeatures to transform it, and Linear regression to fit the weights), we can put these together into a pipeline, which applies both of these to any data added."
   ]
  },
  {
   "cell_type": "code",
   "execution_count": 4,
   "metadata": {},
   "outputs": [],
   "source": [
    "#Create function to define model\n",
    "\n",
    "def PolynomialRegression(degree = 2, interaction_only = False):\n",
    "    \"\"\"\n",
    "    This function returns a model with the desired degree, of the following pipeline\n",
    "    \n",
    "    PolynomialFeatures(degree) --> LinearRegression\n",
    "    \n",
    "    The resulting model can then be applied to the data, to fit a polynomial regression\n",
    "    \"\"\"\n",
    "    \n",
    "    #Define pipeline, first applying PolynomialFeatures, then LinearRegression\n",
    "    model = Pipeline([('PolynomialFeatures', PolynomialFeatures(degree=degree)), \n",
    "                      ('LinearRegression', linear_model.LinearRegression())])\n",
    "    \n",
    "    return model"
   ]
  },
  {
   "cell_type": "markdown",
   "metadata": {},
   "source": [
    "## Fitting an Extremely Wiggly Line\n",
    "\n",
    "Something we can do next is to fit a line to our data, with a very high degree of 10. However, this generally isn't the best idea, as demonstrated by the Mean Squared Error (MSE) of this method."
   ]
  },
  {
   "cell_type": "code",
   "execution_count": 5,
   "metadata": {},
   "outputs": [
    {
     "data": {
      "text/plain": [
       "Pipeline(steps=[('PolynomialFeatures', PolynomialFeatures(degree=10)),\n",
       "                ('LinearRegression', LinearRegression())])"
      ]
     },
     "execution_count": 5,
     "metadata": {},
     "output_type": "execute_result"
    }
   ],
   "source": [
    "#Linear Regression Object\n",
    "wiggly_reg = PolynomialRegression(degree=10)\n",
    "\n",
    "#Fit the linear regression model with our training data\n",
    "wiggly_reg.fit(training_x, training_y)"
   ]
  },
  {
   "cell_type": "code",
   "execution_count": 6,
   "metadata": {},
   "outputs": [
    {
     "name": "stdout",
     "output_type": "stream",
     "text": [
      "Training Mean Squared Error:  65.15684745948603\n",
      "Test Mean Squared Error:  978929490239911.5\n"
     ]
    }
   ],
   "source": [
    "##Test the MSE\n",
    "\n",
    "#Predict values using the regression model \n",
    "\n",
    "y_pred = wiggly_reg.predict(training_x)\n",
    "y_test_pred = wiggly_reg.predict(test_x)\n",
    "\n",
    "#Find the MSe\n",
    "print(\"Training Mean Squared Error: \", mean_squared_error(training_y, y_pred))\n",
    "print(\"Test Mean Squared Error: \", mean_squared_error(test_y, y_test_pred))"
   ]
  },
  {
   "cell_type": "markdown",
   "metadata": {},
   "source": [
    "As you can see above, the training MSE is extremely good, the error is really small compared to the value of the average point. However, the test MSE is insanely large. What happened?\n",
    "\n",
    "What we just experienced was overfitting. Although we can make a very accurate line for our training data, such that the line predicts all of the given points well, we can't make it wiggle correctly for the test data, as we can't see it during training. This means that our test data isn't fit at all well, and the model has no generalisability to new points.\n",
    "\n",
    "We need to be careful of overfitting when training a model, because although this is an extreme example, it can be more subtle. To avoid this, don't assign very high degrees to your polynomial regressions, and check your fit metrics. A key indicator of overfitting is when your model performs significantly worse on your test data than your training data."
   ]
  },
  {
   "cell_type": "markdown",
   "metadata": {},
   "source": [
    "## Training Regression Model\n",
    "\n",
    "Next, we use the data to train a more sensible polynomial regression model, with degree=2"
   ]
  },
  {
   "cell_type": "code",
   "execution_count": 7,
   "metadata": {},
   "outputs": [
    {
     "data": {
      "text/plain": [
       "Pipeline(steps=[('PolynomialFeatures', PolynomialFeatures()),\n",
       "                ('LinearRegression', LinearRegression())])"
      ]
     },
     "execution_count": 7,
     "metadata": {},
     "output_type": "execute_result"
    }
   ],
   "source": [
    "#Linear Regression Object\n",
    "reg = PolynomialRegression(degree=2)\n",
    "\n",
    "#Fit the linear regression model with our training data\n",
    "reg.fit(training_x, training_y)"
   ]
  },
  {
   "cell_type": "markdown",
   "metadata": {},
   "source": [
    "## Evalutating Fit of Model\n",
    "\n",
    "To evaluate the fit of the model, we compare predicted values using the model to the true values observed. The test values are an important indicator, as we can see if our model generalises to more data points from the same set, without having to be trained on these.\n",
    "\n",
    "This is done using `model.predict(true_value, predicted_value)`\n",
    "\n",
    "### Mean Squared Error\n",
    "\n",
    "One easy way to evaluate the fit of our model is to look at the Mean Squared Error (MSE) of our model. This can be done for both the training and test data sets.\n",
    "\n",
    "The error here is quite large compared to the value of the glucose. This generally indicates that our predictions still won't be amazing, although depending on the difficulty of prediction, this level of accuracy could be an achievement in itself. Remember that metric values will depend on the exact problem that you are tackling."
   ]
  },
  {
   "cell_type": "code",
   "execution_count": 8,
   "metadata": {},
   "outputs": [],
   "source": [
    "#Predict values using the regression model \n",
    "\n",
    "y_pred = reg.predict(training_x)\n",
    "y_test_pred = reg.predict(test_x)"
   ]
  },
  {
   "cell_type": "code",
   "execution_count": 9,
   "metadata": {},
   "outputs": [
    {
     "name": "stdout",
     "output_type": "stream",
     "text": [
      "Training Mean Squared Error:  601.9556131001212\n",
      "Test Mean Squared Error:  741.8029012657818\n"
     ]
    }
   ],
   "source": [
    "print(\"Training Mean Squared Error: \", mean_squared_error(training_y, y_pred))\n",
    "print(\"Test Mean Squared Error: \", mean_squared_error(test_y, y_test_pred))"
   ]
  },
  {
   "cell_type": "markdown",
   "metadata": {},
   "source": [
    "### Explained Variance Score\n",
    "\n",
    "The Explained Variance Score gives a measure of how much of the variance in the dependent variable can be explained by variance in the indepenent variables. A value of 1 would mean that all of the variance can be explained, and can mean a perfect correlation. This is similar in concept to an r^2 score, but the calculation is slightly different - if the mean of the error terms is 0, then the explained variance is the same as r^2. [1]\n",
    "\n",
    "As can be seen here, this is 0.40 for the training data, and 0.32 for the test data, meaning that only a small amount of the variation in glucose levels can be predicted by our independent variables. This makes sense, as although diabetes status may have an effect, it is likely that the time since the patient last ate will have a much more significant effect on glucose levels. These are slightly different from our linear values, with a better performance on the training data, and a worse on the test data. The better performance on the test data for the linear model means that the linear model is likely better.\n",
    "\n",
    "Unfortunately, this value is just hard to predict from our independent variables, although estimates can be gathered."
   ]
  },
  {
   "cell_type": "code",
   "execution_count": 10,
   "metadata": {},
   "outputs": [
    {
     "name": "stdout",
     "output_type": "stream",
     "text": [
      "Training Explained Variance : 0.4041286112837972\n",
      "Test Explained Variance : 0.3220331751778678\n"
     ]
    }
   ],
   "source": [
    "print(\"Training Explained Variance :\", explained_variance_score(training_y, y_pred))\n",
    "print(\"Test Explained Variance :\", explained_variance_score(test_y, y_test_pred))"
   ]
  },
  {
   "cell_type": "markdown",
   "metadata": {},
   "source": [
    "### Visualising Regression on a Graph\n",
    "\n",
    "We can also attempt to visualise the regression, by plotting the curve. This can be done with mean values of other variables kept constant, as we vary one, and see the impact upon the dependent variable.\n",
    "\n",
    "As age is the 8th independent variable in the DataFrame, this is the one we vary."
   ]
  },
  {
   "cell_type": "code",
   "execution_count": 11,
   "metadata": {},
   "outputs": [
    {
     "name": "stdout",
     "output_type": "stream",
     "text": [
      "81\n",
      "21\n"
     ]
    }
   ],
   "source": [
    "#Determine the range of one of our variables, to be plotted\n",
    "print(np.max(df[\"Age\"]))\n",
    "print(np.min(df[\"Age\"]))"
   ]
  },
  {
   "cell_type": "code",
   "execution_count": 12,
   "metadata": {},
   "outputs": [
    {
     "data": {
      "text/plain": [
       "Pregnancies                   3.845052\n",
       "Glucose                     120.894531\n",
       "BloodPressure                69.105469\n",
       "SkinThickness                20.536458\n",
       "Insulin                      79.799479\n",
       "BMI                          31.992578\n",
       "DiabetesPedigreeFunction      0.471876\n",
       "Age                          33.240885\n",
       "Outcome                       0.348958\n",
       "dtype: float64"
      ]
     },
     "execution_count": 12,
     "metadata": {},
     "output_type": "execute_result"
    }
   ],
   "source": [
    "#Display the mean values\n",
    "means = np.mean(df)\n",
    "\n",
    "means"
   ]
  },
  {
   "cell_type": "code",
   "execution_count": 13,
   "metadata": {},
   "outputs": [
    {
     "data": {
      "text/plain": [
       "<matplotlib.legend.Legend at 0x1e61674fe48>"
      ]
     },
     "execution_count": 13,
     "metadata": {},
     "output_type": "execute_result"
    },
    {
     "data": {
      "image/png": "[encoded data removed]",
      "text/plain": [
       "<Figure size 432x288 with 1 Axes>"
      ]
     },
     "metadata": {
      "needs_background": "light"
     },
     "output_type": "display_data"
    }
   ],
   "source": [
    "#Generate space in age category\n",
    "x_space = np.linspace(21,80,100)\n",
    "\n",
    "#Create a DataFrame for our prediction points\n",
    "pred_df = pd.DataFrame({\"Pregnancies\": [means[0] for i in range(100)],\n",
    "                        \"BloodPressure\": [means[2] for i in range(100)],\n",
    "                        \"SkinThickness\": [means[3] for i in range(100)],\n",
    "                        \"Insulin\": [means[4] for i in range(100)],\n",
    "                        \"BMI\": [means[5] for i in range(100)],\n",
    "                        \"DiabetesPedigreeFunction\": [means[6] for i in range(100)],\n",
    "                        \"Age\" : x_space,\n",
    "                        \"Outcome\": [means[8] for i in range(100)]})\n",
    "\n",
    "pred_space = reg.predict(pred_df)\n",
    "\n",
    "#Plot Line\n",
    "plt.plot(x_space, pred_space, label=\"Degree = 2\")\n",
    "\n",
    "#Label axes\n",
    "plt.xlabel(\"Age\")\n",
    "plt.ylabel(\"Predicted Glucose Level\")\n",
    "plt.ylim(100, 150)\n",
    "\n",
    "plt.legend()"
   ]
  },
  {
   "cell_type": "markdown",
   "metadata": {},
   "source": [
    "## Viewing Weights (Coefficients) \n",
    "\n",
    "We can still view the weights of our model, albeit in a more involved way because of the pipeline. However, due to the polynomial regression, it becomes more difficult to understand which weight corresponds to which feature. This can be done iteratively, with the following code, however."
   ]
  },
  {
   "cell_type": "code",
   "execution_count": 14,
   "metadata": {},
   "outputs": [
    {
     "name": "stdout",
     "output_type": "stream",
     "text": [
      "Feature: x0, Weight: -1.1251478340342358\n",
      "Feature: x1, Weight: -0.2956838545465935\n",
      "Feature: x2, Weight: -0.3288325336311151\n",
      "Feature: x3, Weight: 0.2701809571658627\n",
      "Feature: x4, Weight: 0.9934723495365727\n",
      "Feature: x5, Weight: -42.35468558614904\n",
      "Feature: x6, Weight: 1.0429615895731745\n",
      "Feature: x7, Weight: 12.523729510271394\n",
      "Feature: x0^2, Weight: -0.06871345560660418\n",
      "Feature: x0 x1, Weight: 0.008503897532720994\n",
      "Feature: x0 x2, Weight: -9.920351580417261e-05\n",
      "Feature: x0 x3, Weight: -0.0045217232639874925\n",
      "Feature: x0 x4, Weight: 0.025326628785087697\n",
      "Feature: x0 x5, Weight: -0.032494745390785944\n",
      "Feature: x0 x6, Weight: 0.016941828504340065\n",
      "Feature: x0 x7, Weight: -0.09731941651365666\n",
      "Feature: x1^2, Weight: 0.004692646578054917\n",
      "Feature: x1 x2, Weight: 0.006424569326820701\n",
      "Feature: x1 x3, Weight: -0.00190454783362365\n",
      "Feature: x1 x4, Weight: 0.0008549535522616623\n",
      "Feature: x1 x5, Weight: 0.3262564890679345\n",
      "Feature: x1 x6, Weight: -0.0061049868717649265\n",
      "Feature: x1 x7, Weight: -0.09776949866229549\n",
      "Feature: x2^2, Weight: 0.010387730156535843\n",
      "Feature: x2 x3, Weight: 0.0009215481095996845\n",
      "Feature: x2 x4, Weight: -0.03190280145259204\n",
      "Feature: x2 x5, Weight: -0.08207088481876745\n",
      "Feature: x2 x6, Weight: 0.004949700480737628\n",
      "Feature: x2 x7, Weight: 0.12135108667119371\n",
      "Feature: x3^2, Weight: -9.620673281755422e-05\n",
      "Feature: x3 x4, Weight: 0.0004371869152970262\n",
      "Feature: x3 x5, Weight: -0.0034960232814652877\n",
      "Feature: x3 x6, Weight: -9.741056753997945e-06\n",
      "Feature: x3 x7, Weight: -0.02973017827812703\n",
      "Feature: x4^2, Weight: 0.0017410637643299962\n",
      "Feature: x4 x5, Weight: 0.4736495901191637\n",
      "Feature: x4 x6, Weight: -0.02522858343675677\n",
      "Feature: x4 x7, Weight: 0.2823720077982238\n",
      "Feature: x5^2, Weight: 13.417436715317873\n",
      "Feature: x5 x6, Weight: -0.455785551092903\n",
      "Feature: x5 x7, Weight: -2.138947265270032\n",
      "Feature: x6^2, Weight: 0.008560732207742311\n",
      "Feature: x6 x7, Weight: -0.06447460268293279\n",
      "Feature: x7^2, Weight: 12.52372951107829\n",
      "Intercept: 70.7557480585524\n"
     ]
    }
   ],
   "source": [
    "#Extract weights and names from the model\n",
    "weights = reg.steps[1][1].coef_\n",
    "names = reg.steps[0][1].get_feature_names()\n",
    "\n",
    "#Print out the feature names and corresponding weights\n",
    "for i in range(len(weights)-1):\n",
    "    \n",
    "    #Find the corresponding weight\n",
    "    weight = weights[i+1]\n",
    "    name = names[i+1]\n",
    "    \n",
    "    print(f\"Feature: {name}, Weight: {weight}\")\n",
    "\n",
    "#Print Intercept\n",
    "intercept = reg.steps[1][1].intercept_\n",
    "print(f\"Intercept: {intercept}\")"
   ]
  },
  {
   "cell_type": "markdown",
   "metadata": {},
   "source": [
    "The glucose level for any known $X_0$ through $X_7$ value can therefore be estimated. Remember from above that the first column in the DataFrame referred to the number of pregnancies, so this is variable $X_0$."
   ]
  },
  {
   "cell_type": "markdown",
   "metadata": {},
   "source": [
    "## Predictions\n",
    "\n",
    "To make further use of the model, we can predict new dependent variable values. This can be done with any measured independent variable values.\n",
    "\n",
    "Here, we choose mean values for each, and see what the prediction for this is. This prediction is 112.6, which is slightly different from the linear regression prediction of 121, and although the units are not given with the dataset, we can assume this to be a standard g/L."
   ]
  },
  {
   "cell_type": "code",
   "execution_count": 15,
   "metadata": {},
   "outputs": [
    {
     "data": {
      "text/plain": [
       "Pregnancies                  3.845052\n",
       "BloodPressure               69.105469\n",
       "SkinThickness               20.536458\n",
       "Insulin                     79.799479\n",
       "BMI                         31.992578\n",
       "DiabetesPedigreeFunction     0.471876\n",
       "Age                         33.240885\n",
       "Outcome                      0.348958\n",
       "dtype: float64"
      ]
     },
     "execution_count": 15,
     "metadata": {},
     "output_type": "execute_result"
    }
   ],
   "source": [
    "means = np.mean(df.drop([\"Glucose\"], axis=1))\n",
    "\n",
    "means"
   ]
  },
  {
   "cell_type": "code",
   "execution_count": 16,
   "metadata": {},
   "outputs": [
    {
     "data": {
      "text/plain": [
       "array([112.63221035])"
      ]
     },
     "execution_count": 16,
     "metadata": {},
     "output_type": "execute_result"
    }
   ],
   "source": [
    "#Making an example prediction\n",
    "\n",
    "#Our example point will be at the mean all dependent variables\n",
    "\n",
    "#Predict y value - means is first changed to a numpy array and then reshaped to fit the function\n",
    "predicted_y = reg.predict(np.array(means).reshape(1, -1))\n",
    "\n",
    "predicted_y"
   ]
  },
  {
   "cell_type": "markdown",
   "metadata": {},
   "source": [
    "# References\n",
    "\n",
    "Things that I've referenced go here, to be cleaned up later\n",
    "\n",
    "- [1] https://stats.stackexchange.com/questions/210168/what-is-the-difference-between-r2-and-variance-score-in-scikit-learn\n",
    "- SciKit-Learn\n",
    "- Numpy\n",
    "- Kaggle dataset\n",
    "- Multicollinearity source - https://towardsdatascience.com/multi-collinearity-in-regression-fe7a2c1467ea"
   ]
  }
 ],
 "metadata": {
  "kernelspec": {
   "display_name": "Python 3",
   "language": "python",
   "name": "python3"
  },
  "language_info": {
   "codemirror_mode": {
    "name": "ipython",
    "version": 3
   },
   "file_extension": ".py",
   "mimetype": "text/x-python",
   "name": "python",
   "nbconvert_exporter": "python",
   "pygments_lexer": "ipython3",
   "version": "3.6.12"
  }
 },
 "nbformat": 4,
 "nbformat_minor": 4
}
