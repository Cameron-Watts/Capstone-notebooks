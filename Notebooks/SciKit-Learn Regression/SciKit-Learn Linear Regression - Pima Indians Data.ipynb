{
 "cells": [
  {
   "cell_type": "markdown",
   "metadata": {},
   "source": [
    "# Simple Linear Regression of Blood Glucose Level\n",
    "\n",
    "Data downloaded from Kaggle at https://www.kaggle.com/uciml/pima-indians-diabetes-database\n",
    "\n",
    "## Importing Packages"
   ]
  },
  {
   "cell_type": "code",
   "execution_count": 1,
   "metadata": {},
   "outputs": [],
   "source": [
    "##Import packages\n",
    "\n",
    "#Data Processing\n",
    "import pandas as pd\n",
    "import numpy as np\n",
    "\n",
    "#Finding the data on our system\n",
    "import pathlib\n",
    "\n",
    "#Linear regression\n",
    "from sklearn import linear_model\n",
    "\n",
    "#Metrics to evaluate\n",
    "from sklearn.metrics import mean_squared_error\n",
    "from sklearn.metrics import explained_variance_score\n",
    "\n",
    "#Plotting library\n",
    "import matplotlib.pyplot as plt"
   ]
  },
  {
   "cell_type": "markdown",
   "metadata": {},
   "source": [
    "## Importing Data"
   ]
  },
  {
   "cell_type": "code",
   "execution_count": 2,
   "metadata": {},
   "outputs": [
    {
     "data": {
      "text/html": [
       "<div>\n",
       "<style scoped>\n",
       "    .dataframe tbody tr th:only-of-type {\n",
       "        vertical-align: middle;\n",
       "    }\n",
       "\n",
       "    .dataframe tbody tr th {\n",
       "        vertical-align: top;\n",
       "    }\n",
       "\n",
       "    .dataframe thead th {\n",
       "        text-align: right;\n",
       "    }\n",
       "</style>\n",
       "<table border=\"1\" class=\"dataframe\">\n",
       "  <thead>\n",
       "    <tr style=\"text-align: right;\">\n",
       "      <th></th>\n",
       "      <th>Pregnancies</th>\n",
       "      <th>Glucose</th>\n",
       "      <th>BloodPressure</th>\n",
       "      <th>SkinThickness</th>\n",
       "      <th>Insulin</th>\n",
       "      <th>BMI</th>\n",
       "      <th>DiabetesPedigreeFunction</th>\n",
       "      <th>Age</th>\n",
       "      <th>Outcome</th>\n",
       "    </tr>\n",
       "  </thead>\n",
       "  <tbody>\n",
       "    <tr>\n",
       "      <th>0</th>\n",
       "      <td>6</td>\n",
       "      <td>148</td>\n",
       "      <td>72</td>\n",
       "      <td>35</td>\n",
       "      <td>0</td>\n",
       "      <td>33.6</td>\n",
       "      <td>0.627</td>\n",
       "      <td>50</td>\n",
       "      <td>1</td>\n",
       "    </tr>\n",
       "    <tr>\n",
       "      <th>1</th>\n",
       "      <td>1</td>\n",
       "      <td>85</td>\n",
       "      <td>66</td>\n",
       "      <td>29</td>\n",
       "      <td>0</td>\n",
       "      <td>26.6</td>\n",
       "      <td>0.351</td>\n",
       "      <td>31</td>\n",
       "      <td>0</td>\n",
       "    </tr>\n",
       "    <tr>\n",
       "      <th>2</th>\n",
       "      <td>8</td>\n",
       "      <td>183</td>\n",
       "      <td>64</td>\n",
       "      <td>0</td>\n",
       "      <td>0</td>\n",
       "      <td>23.3</td>\n",
       "      <td>0.672</td>\n",
       "      <td>32</td>\n",
       "      <td>1</td>\n",
       "    </tr>\n",
       "    <tr>\n",
       "      <th>3</th>\n",
       "      <td>1</td>\n",
       "      <td>89</td>\n",
       "      <td>66</td>\n",
       "      <td>23</td>\n",
       "      <td>94</td>\n",
       "      <td>28.1</td>\n",
       "      <td>0.167</td>\n",
       "      <td>21</td>\n",
       "      <td>0</td>\n",
       "    </tr>\n",
       "    <tr>\n",
       "      <th>4</th>\n",
       "      <td>0</td>\n",
       "      <td>137</td>\n",
       "      <td>40</td>\n",
       "      <td>35</td>\n",
       "      <td>168</td>\n",
       "      <td>43.1</td>\n",
       "      <td>2.288</td>\n",
       "      <td>33</td>\n",
       "      <td>1</td>\n",
       "    </tr>\n",
       "  </tbody>\n",
       "</table>\n",
       "</div>"
      ],
      "text/plain": [
       "   Pregnancies  Glucose  BloodPressure  SkinThickness  Insulin   BMI  \\\n",
       "0            6      148             72             35        0  33.6   \n",
       "1            1       85             66             29        0  26.6   \n",
       "2            8      183             64              0        0  23.3   \n",
       "3            1       89             66             23       94  28.1   \n",
       "4            0      137             40             35      168  43.1   \n",
       "\n",
       "   DiabetesPedigreeFunction  Age  Outcome  \n",
       "0                     0.627   50        1  \n",
       "1                     0.351   31        0  \n",
       "2                     0.672   32        1  \n",
       "3                     0.167   21        0  \n",
       "4                     2.288   33        1  "
      ]
     },
     "execution_count": 2,
     "metadata": {},
     "output_type": "execute_result"
    }
   ],
   "source": [
    "##Import data from another directory\n",
    "\n",
    "#Find the file\n",
    "p = str(pathlib.Path().resolve()).replace(\"\\\\Notebooks\\\\SciKit-Learn Regression\", \"\")\n",
    "p += (\"\\\\Data\\\\Raw\\\\Pima_Indians.csv\")\n",
    "p = pathlib.Path(p).resolve()\n",
    "\n",
    "#Read into a pandas dataframe\n",
    "df = pd.read_csv(p)\n",
    "\n",
    "#Preview the dataset\n",
    "df.head()"
   ]
  },
  {
   "cell_type": "markdown",
   "metadata": {},
   "source": [
    "## Removing Unused Columns from Data\n",
    "\n",
    "Not all of the columns in this dataset are necessarily useful. Generally, we would consider removing such columns, but those in this dataset are all useful to us from a first look.\n",
    "\n",
    "We might consider removing the outcome column, due to it being a part of a classification problem, in predicting if a patient has diabetes. This column can have some use in this problem, due to our knowledge of this affecting the glucose levels of a patient. We will keep this column for that reason."
   ]
  },
  {
   "cell_type": "markdown",
   "metadata": {},
   "source": [
    "## Removing Rows for Test Data\n",
    "\n",
    "A vital part of machine learning is being able to test with data that the model is not trained on. This means that we can test the generalisability of our regression with this data. Therefore, we take the first 100 rows from the dataset to be the test dataset. This can also be done randomly.\n",
    "\n",
    "We also rename the training portions of the data accordingly."
   ]
  },
  {
   "cell_type": "code",
   "execution_count": 3,
   "metadata": {},
   "outputs": [],
   "source": [
    "#Find test data\n",
    "test_data = df[:100]\n",
    "\n",
    "#Seperate into x and y\n",
    "test_y = test_data[\"Glucose\"]\n",
    "test_x = test_data.drop([\"Glucose\"], axis=1)\n",
    "\n",
    "#Remove test data from the original dataset\n",
    "df = df.drop(list(range(0, 100)))"
   ]
  },
  {
   "cell_type": "code",
   "execution_count": 4,
   "metadata": {},
   "outputs": [],
   "source": [
    "## Rename training data columns\n",
    "training_y = df[\"Glucose\"]\n",
    "training_x = df.drop([\"Glucose\"], axis=1)"
   ]
  },
  {
   "cell_type": "markdown",
   "metadata": {},
   "source": [
    "## Testing for Multicollinearity\n",
    "\n",
    "As explained in the main article, multicollinearity is a problem for data used in a regression, so we want to test for this before performing the regression. This can be done easily with `df.corr()`, producing a correlation matrix between each variable in the DataFrame.\n",
    "\n",
    "We can also plot a graph of the correlation between independent variables, with matplotlib's `imshow`, and a colour map. This allows us to easily see areas with high correlation.\n",
    "\n",
    "A good limit to consider is a correlation of over 0.8 being highly collinear, such that we would have to do something about it. We have some concern about the correlations between \"Age\" and \"Pregnancies\", and \"Outcome\" and \"Glucose\", but neither of these reach our limit to be removed.\n",
    "\n",
    "As such, we can continue as planned, without removing any columns."
   ]
  },
  {
   "cell_type": "code",
   "execution_count": 5,
   "metadata": {},
   "outputs": [
    {
     "data": {
      "text/html": [
       "<div>\n",
       "<style scoped>\n",
       "    .dataframe tbody tr th:only-of-type {\n",
       "        vertical-align: middle;\n",
       "    }\n",
       "\n",
       "    .dataframe tbody tr th {\n",
       "        vertical-align: top;\n",
       "    }\n",
       "\n",
       "    .dataframe thead th {\n",
       "        text-align: right;\n",
       "    }\n",
       "</style>\n",
       "<table border=\"1\" class=\"dataframe\">\n",
       "  <thead>\n",
       "    <tr style=\"text-align: right;\">\n",
       "      <th></th>\n",
       "      <th>Pregnancies</th>\n",
       "      <th>Glucose</th>\n",
       "      <th>BloodPressure</th>\n",
       "      <th>SkinThickness</th>\n",
       "      <th>Insulin</th>\n",
       "      <th>BMI</th>\n",
       "      <th>DiabetesPedigreeFunction</th>\n",
       "      <th>Age</th>\n",
       "      <th>Outcome</th>\n",
       "    </tr>\n",
       "  </thead>\n",
       "  <tbody>\n",
       "    <tr>\n",
       "      <th>Pregnancies</th>\n",
       "      <td>1.000000</td>\n",
       "      <td>0.113189</td>\n",
       "      <td>0.130772</td>\n",
       "      <td>-0.066313</td>\n",
       "      <td>-0.063370</td>\n",
       "      <td>0.016777</td>\n",
       "      <td>-0.006184</td>\n",
       "      <td>0.547610</td>\n",
       "      <td>0.223926</td>\n",
       "    </tr>\n",
       "    <tr>\n",
       "      <th>Glucose</th>\n",
       "      <td>0.113189</td>\n",
       "      <td>1.000000</td>\n",
       "      <td>0.132145</td>\n",
       "      <td>0.059059</td>\n",
       "      <td>0.311685</td>\n",
       "      <td>0.209797</td>\n",
       "      <td>0.122709</td>\n",
       "      <td>0.240402</td>\n",
       "      <td>0.471590</td>\n",
       "    </tr>\n",
       "    <tr>\n",
       "      <th>BloodPressure</th>\n",
       "      <td>0.130772</td>\n",
       "      <td>0.132145</td>\n",
       "      <td>1.000000</td>\n",
       "      <td>0.215104</td>\n",
       "      <td>0.084851</td>\n",
       "      <td>0.255337</td>\n",
       "      <td>0.027735</td>\n",
       "      <td>0.214193</td>\n",
       "      <td>0.055183</td>\n",
       "    </tr>\n",
       "    <tr>\n",
       "      <th>SkinThickness</th>\n",
       "      <td>-0.066313</td>\n",
       "      <td>0.059059</td>\n",
       "      <td>0.215104</td>\n",
       "      <td>1.000000</td>\n",
       "      <td>0.436832</td>\n",
       "      <td>0.399780</td>\n",
       "      <td>0.189026</td>\n",
       "      <td>-0.128545</td>\n",
       "      <td>0.069508</td>\n",
       "    </tr>\n",
       "    <tr>\n",
       "      <th>Insulin</th>\n",
       "      <td>-0.063370</td>\n",
       "      <td>0.311685</td>\n",
       "      <td>0.084851</td>\n",
       "      <td>0.436832</td>\n",
       "      <td>1.000000</td>\n",
       "      <td>0.204153</td>\n",
       "      <td>0.206159</td>\n",
       "      <td>-0.089642</td>\n",
       "      <td>0.114973</td>\n",
       "    </tr>\n",
       "    <tr>\n",
       "      <th>BMI</th>\n",
       "      <td>0.016777</td>\n",
       "      <td>0.209797</td>\n",
       "      <td>0.255337</td>\n",
       "      <td>0.399780</td>\n",
       "      <td>0.204153</td>\n",
       "      <td>1.000000</td>\n",
       "      <td>0.115314</td>\n",
       "      <td>0.006592</td>\n",
       "      <td>0.293575</td>\n",
       "    </tr>\n",
       "    <tr>\n",
       "      <th>DiabetesPedigreeFunction</th>\n",
       "      <td>-0.006184</td>\n",
       "      <td>0.122709</td>\n",
       "      <td>0.027735</td>\n",
       "      <td>0.189026</td>\n",
       "      <td>0.206159</td>\n",
       "      <td>0.115314</td>\n",
       "      <td>1.000000</td>\n",
       "      <td>0.012968</td>\n",
       "      <td>0.176839</td>\n",
       "    </tr>\n",
       "    <tr>\n",
       "      <th>Age</th>\n",
       "      <td>0.547610</td>\n",
       "      <td>0.240402</td>\n",
       "      <td>0.214193</td>\n",
       "      <td>-0.128545</td>\n",
       "      <td>-0.089642</td>\n",
       "      <td>0.006592</td>\n",
       "      <td>0.012968</td>\n",
       "      <td>1.000000</td>\n",
       "      <td>0.218480</td>\n",
       "    </tr>\n",
       "    <tr>\n",
       "      <th>Outcome</th>\n",
       "      <td>0.223926</td>\n",
       "      <td>0.471590</td>\n",
       "      <td>0.055183</td>\n",
       "      <td>0.069508</td>\n",
       "      <td>0.114973</td>\n",
       "      <td>0.293575</td>\n",
       "      <td>0.176839</td>\n",
       "      <td>0.218480</td>\n",
       "      <td>1.000000</td>\n",
       "    </tr>\n",
       "  </tbody>\n",
       "</table>\n",
       "</div>"
      ],
      "text/plain": [
       "                          Pregnancies   Glucose  BloodPressure  SkinThickness  \\\n",
       "Pregnancies                  1.000000  0.113189       0.130772      -0.066313   \n",
       "Glucose                      0.113189  1.000000       0.132145       0.059059   \n",
       "BloodPressure                0.130772  0.132145       1.000000       0.215104   \n",
       "SkinThickness               -0.066313  0.059059       0.215104       1.000000   \n",
       "Insulin                     -0.063370  0.311685       0.084851       0.436832   \n",
       "BMI                          0.016777  0.209797       0.255337       0.399780   \n",
       "DiabetesPedigreeFunction    -0.006184  0.122709       0.027735       0.189026   \n",
       "Age                          0.547610  0.240402       0.214193      -0.128545   \n",
       "Outcome                      0.223926  0.471590       0.055183       0.069508   \n",
       "\n",
       "                           Insulin       BMI  DiabetesPedigreeFunction  \\\n",
       "Pregnancies              -0.063370  0.016777                 -0.006184   \n",
       "Glucose                   0.311685  0.209797                  0.122709   \n",
       "BloodPressure             0.084851  0.255337                  0.027735   \n",
       "SkinThickness             0.436832  0.399780                  0.189026   \n",
       "Insulin                   1.000000  0.204153                  0.206159   \n",
       "BMI                       0.204153  1.000000                  0.115314   \n",
       "DiabetesPedigreeFunction  0.206159  0.115314                  1.000000   \n",
       "Age                      -0.089642  0.006592                  0.012968   \n",
       "Outcome                   0.114973  0.293575                  0.176839   \n",
       "\n",
       "                               Age   Outcome  \n",
       "Pregnancies               0.547610  0.223926  \n",
       "Glucose                   0.240402  0.471590  \n",
       "BloodPressure             0.214193  0.055183  \n",
       "SkinThickness            -0.128545  0.069508  \n",
       "Insulin                  -0.089642  0.114973  \n",
       "BMI                       0.006592  0.293575  \n",
       "DiabetesPedigreeFunction  0.012968  0.176839  \n",
       "Age                       1.000000  0.218480  \n",
       "Outcome                   0.218480  1.000000  "
      ]
     },
     "execution_count": 5,
     "metadata": {},
     "output_type": "execute_result"
    }
   ],
   "source": [
    "#Display a matrix of correlation coefficients (r)\n",
    "corr = df.corr()\n",
    "corr"
   ]
  },
  {
   "cell_type": "code",
   "execution_count": 6,
   "metadata": {},
   "outputs": [
    {
     "data": {
      "text/plain": [
       "<matplotlib.colorbar.Colorbar at 0x19bf2ce99e8>"
      ]
     },
     "execution_count": 6,
     "metadata": {},
     "output_type": "execute_result"
    },
    {
     "data": {
      "image/png": "[encoded data removed]",
      "text/plain": [
       "<Figure size 432x288 with 2 Axes>"
      ]
     },
     "metadata": {
      "needs_background": "light"
     },
     "output_type": "display_data"
    }
   ],
   "source": [
    "plt.imshow(corr, cmap=\"hot\")\n",
    "plt.colorbar()"
   ]
  },
  {
   "cell_type": "markdown",
   "metadata": {},
   "source": [
    "## Training Regression Model\n",
    "\n",
    "Next, we use the data to train our linear regression model, with SciKit-Learn"
   ]
  },
  {
   "cell_type": "code",
   "execution_count": 7,
   "metadata": {},
   "outputs": [
    {
     "data": {
      "text/plain": [
       "LinearRegression()"
      ]
     },
     "execution_count": 7,
     "metadata": {},
     "output_type": "execute_result"
    }
   ],
   "source": [
    "#Linear Regression Object\n",
    "reg = linear_model.LinearRegression()\n",
    "\n",
    "#Fit the linear regression model with our training data\n",
    "reg.fit(training_x, training_y)"
   ]
  },
  {
   "cell_type": "markdown",
   "metadata": {},
   "source": [
    "## Evalutating Fit of Model\n",
    "\n",
    "To evaluate the fit of the model, we compare predicted values using the model to the true values observed. The test values are an important indicator, as we can see if our model generalises to more data points from the same set, without having to be trained on these.\n",
    "\n",
    "This is done using `model.predict(true_value, predicted_value)`\n",
    "\n",
    "### Mean Squared Error\n",
    "\n",
    "One easy way to evaluate the fit of our model is to look at the Mean Squared Error (MSE) of our model. This can be done for both the training and test data sets.\n",
    "\n",
    "The error here is quite large compared to the value of the glucose. This generally indicates that our predictions won't be the best, and that we could consider a different regressional method."
   ]
  },
  {
   "cell_type": "code",
   "execution_count": 8,
   "metadata": {},
   "outputs": [],
   "source": [
    "#Predict values using the regression model \n",
    "\n",
    "y_pred = reg.predict(training_x)\n",
    "y_test_pred = reg.predict(test_x)"
   ]
  },
  {
   "cell_type": "code",
   "execution_count": 9,
   "metadata": {},
   "outputs": [
    {
     "name": "stdout",
     "output_type": "stream",
     "text": [
      "Training Mean Squared Error:  664.8629038570214\n",
      "Test Mean Squared Error:  712.6393974871795\n"
     ]
    }
   ],
   "source": [
    "print(\"Training Mean Squared Error: \", mean_squared_error(training_y, y_pred))\n",
    "print(\"Test Mean Squared Error: \", mean_squared_error(test_y, y_test_pred))"
   ]
  },
  {
   "cell_type": "markdown",
   "metadata": {},
   "source": [
    "### Explained Variance Score\n",
    "\n",
    "The Explained Variance Score gives a measure of how much of the variance in the dependent variable can be explained by variance in the indepenent variables. A value of 1 would mean that all of the variance can be explained, and can mean a perfect correlation. This is similar in concept to an r^2 score, but the calculation is slightly different - if the mean of the error terms is 0, then the explained variance is the same as r^2. [1]\n",
    "\n",
    "As can be seen here, this is 0.34 for the training data, meaning that only a small amount of the variation in glucose levels can be predicted by our independent variables. This makes sense, as although diabetes status may have an effect, it is likely that the time since the patient last ate will have a much more significant effect on glucose levels."
   ]
  },
  {
   "cell_type": "code",
   "execution_count": 10,
   "metadata": {},
   "outputs": [
    {
     "name": "stdout",
     "output_type": "stream",
     "text": [
      "Training Explained Variance : 0.33765876612257095\n",
      "Test Explained Variance : 0.37618470067482446\n"
     ]
    }
   ],
   "source": [
    "print(\"Training Explained Variance :\", explained_variance_score(training_y, y_pred))\n",
    "print(\"Test Explained Variance :\", explained_variance_score(test_y, y_test_pred))"
   ]
  },
  {
   "cell_type": "markdown",
   "metadata": {},
   "source": [
    "### Visualising Regression on a Graph\n",
    "\n",
    "We can also attempt to visualise the regression, by plotting the line. This can be done with mean values of other variables kept constant, as we vary one, and see the impact upon the dependent variable.\n",
    "\n",
    "As age is the 8th independent variable in the DataFrame, this is the one we vary."
   ]
  },
  {
   "cell_type": "code",
   "execution_count": 11,
   "metadata": {},
   "outputs": [
    {
     "data": {
      "text/plain": [
       "60"
      ]
     },
     "execution_count": 11,
     "metadata": {},
     "output_type": "execute_result"
    }
   ],
   "source": [
    "#Determine the range of one of our variables, to be plotted\n",
    "np.max(df[\"Age\"]) - np.min(df[\"Age\"])"
   ]
  },
  {
   "cell_type": "code",
   "execution_count": 12,
   "metadata": {},
   "outputs": [
    {
     "data": {
      "text/plain": [
       "Pregnancies                   3.730539\n",
       "Glucose                     121.336826\n",
       "BloodPressure                69.260479\n",
       "SkinThickness                20.631737\n",
       "Insulin                      80.615269\n",
       "BMI                          32.141766\n",
       "DiabetesPedigreeFunction      0.472317\n",
       "Age                          33.064371\n",
       "Outcome                       0.345808\n",
       "dtype: float64"
      ]
     },
     "execution_count": 12,
     "metadata": {},
     "output_type": "execute_result"
    }
   ],
   "source": [
    "#Display the mean values\n",
    "means = np.mean(df)\n",
    "\n",
    "means"
   ]
  },
  {
   "cell_type": "code",
   "execution_count": 13,
   "metadata": {},
   "outputs": [
    {
     "data": {
      "text/plain": [
       "Text(0, 0.5, 'Predicted Glucose Level')"
      ]
     },
     "execution_count": 13,
     "metadata": {},
     "output_type": "execute_result"
    },
    {
     "data": {
      "image/png": "[encoded data removed]",
      "text/plain": [
       "<Figure size 432x288 with 1 Axes>"
      ]
     },
     "metadata": {
      "needs_background": "light"
     },
     "output_type": "display_data"
    }
   ],
   "source": [
    "#Generate space in age category\n",
    "x_space = np.linspace(0,60,100)\n",
    "\n",
    "#Create a DataFrame for our prediction points\n",
    "pred_df = pd.DataFrame({\"Pregnancies\": [means[0] for i in range(100)],\n",
    "                        \"BloodPressure\": [means[2] for i in range(100)],\n",
    "                        \"SkinThickness\": [means[3] for i in range(100)],\n",
    "                        \"Insulin\": [means[4] for i in range(100)],\n",
    "                        \"BMI\": [means[5] for i in range(100)],\n",
    "                        \"DiabetesPedigreeFunction\": [means[6] for i in range(100)],\n",
    "                        \"Age\" : x_space,\n",
    "                        \"Outcome\": [means[8] for i in range(100)]})\n",
    "\n",
    "pred_space = reg.predict(pred_df)\n",
    "\n",
    "#Plot Line\n",
    "plt.plot(x_space, pred_space)\n",
    "\n",
    "#Label axes\n",
    "plt.xlabel(\"Age\")\n",
    "plt.ylabel(\"Predicted Glucose Level\")"
   ]
  },
  {
   "cell_type": "markdown",
   "metadata": {},
   "source": [
    "## Viewing Weights (Coefficients) "
   ]
  },
  {
   "cell_type": "code",
   "execution_count": 14,
   "metadata": {},
   "outputs": [
    {
     "name": "stdout",
     "output_type": "stream",
     "text": [
      "[-0.77131702  0.10525219 -0.24863633  0.08795123  0.26225038 -0.09535431\n",
      "  0.52533586 26.48321929]\n",
      "80.0518526010266\n"
     ]
    }
   ],
   "source": [
    "print(reg.coef_)\n",
    "\n",
    "print(reg.intercept_)"
   ]
  },
  {
   "cell_type": "markdown",
   "metadata": {},
   "source": [
    "As can be seen in the code cell above, the weights and intercept for this model are displayed. This means that our equation for the regression line is:\n",
    "\n",
    "$$ y = -0.77X_1 + 0.105X_2 - 0.249X_3 + 0.0880X_4 + 0.262X_5 - 0.0954X_6 + 0.525X_7 + 26.5$$\n",
    "\n",
    "The glucose level for any known $X_1$ through $X_7$ value can therefore be estimated. Remember from above that the first column in the DataFrame referred to the number of pregnancies, so this is variable $X_1$."
   ]
  },
  {
   "cell_type": "markdown",
   "metadata": {},
   "source": [
    "## Predictions\n",
    "\n",
    "To make further use of the model, we can predict new dependent variable values. This can be done with any measured independent variable values.\n",
    "\n",
    "Here, we choose mean values for each, and see what the prediction for this is. This prediction is 121, and although the units are not given with the dataset, we can assume this to be a standard g/L."
   ]
  },
  {
   "cell_type": "code",
   "execution_count": 15,
   "metadata": {},
   "outputs": [
    {
     "data": {
      "text/plain": [
       "Pregnancies                  3.730539\n",
       "BloodPressure               69.260479\n",
       "SkinThickness               20.631737\n",
       "Insulin                     80.615269\n",
       "BMI                         32.141766\n",
       "DiabetesPedigreeFunction     0.472317\n",
       "Age                         33.064371\n",
       "Outcome                      0.345808\n",
       "dtype: float64"
      ]
     },
     "execution_count": 15,
     "metadata": {},
     "output_type": "execute_result"
    }
   ],
   "source": [
    "means = np.mean(df.drop([\"Glucose\"], axis=1))\n",
    "\n",
    "means"
   ]
  },
  {
   "cell_type": "code",
   "execution_count": 16,
   "metadata": {},
   "outputs": [
    {
     "data": {
      "text/plain": [
       "array([121.33682635])"
      ]
     },
     "execution_count": 16,
     "metadata": {},
     "output_type": "execute_result"
    }
   ],
   "source": [
    "#Making an example prediction\n",
    "\n",
    "#Our example point will be at the mean all dependent variables\n",
    "\n",
    "#Predict y value - means is first changed to a numpy array and then reshaped to fit the function\n",
    "predicted_y = reg.predict(np.array(means).reshape(1, -1))\n",
    "\n",
    "predicted_y"
   ]
  },
  {
   "cell_type": "markdown",
   "metadata": {},
   "source": [
    "# References\n",
    "\n",
    "Things that I've referenced go here, to be cleaned up later\n",
    "\n",
    "- [1] https://stats.stackexchange.com/questions/210168/what-is-the-difference-between-r2-and-variance-score-in-scikit-learn\n",
    "- SciKit-Learn\n",
    "- Numpy\n",
    "- Kaggle dataset\n",
    "- Multicollinearity source - https://towardsdatascience.com/multi-collinearity-in-regression-fe7a2c1467ea"
   ]
  }
 ],
 "metadata": {
  "kernelspec": {
   "display_name": "Python 3",
   "language": "python",
   "name": "python3"
  },
  "language_info": {
   "codemirror_mode": {
    "name": "ipython",
    "version": 3
   },
   "file_extension": ".py",
   "mimetype": "text/x-python",
   "name": "python",
   "nbconvert_exporter": "python",
   "pygments_lexer": "ipython3",
   "version": "3.6.12"
  }
 },
 "nbformat": 4,
 "nbformat_minor": 4
}
