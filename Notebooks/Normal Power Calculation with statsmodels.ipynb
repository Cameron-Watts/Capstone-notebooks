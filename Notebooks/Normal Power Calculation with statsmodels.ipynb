{
 "cells": [
  {
   "cell_type": "markdown",
   "metadata": {},
   "source": [
    "You may need to install the package using the following line of code, which can be used in a notebook or in the command line (uncomment first)"
   ]
  },
  {
   "cell_type": "code",
   "execution_count": null,
   "metadata": {},
   "outputs": [],
   "source": [
    "#!pip install statsmodels"
   ]
  },
  {
   "cell_type": "markdown",
   "metadata": {},
   "source": [
    "Next, we can perform the calculation using the module:"
   ]
  },
  {
   "cell_type": "code",
   "execution_count": 10,
   "metadata": {},
   "outputs": [
    {
     "data": {
      "text/plain": [
       "63.76561177540986"
      ]
     },
     "execution_count": 10,
     "metadata": {},
     "output_type": "execute_result"
    }
   ],
   "source": [
    "from statsmodels.stats.power import TTestIndPower\n",
    "\n",
    "#Firstly, we input our desired variables\n",
    "# When using, change these as required\n",
    "\n",
    "# Effect size (Cohen's D)\n",
    "effect_size = 0.5\n",
    "\n",
    "#Number of observations (sample size)\n",
    "nobs1 = None\n",
    "\n",
    "#Alpha\n",
    "alpha = 0.05\n",
    "\n",
    "#Power\n",
    "power = 0.8\n",
    "\n",
    "#Ratio (Do we want the same number of observations in each group)\n",
    "# This will generally be kept as 1, for equal sizes in each group\n",
    "ratio = 1.0\n",
    "\n",
    "#Alternative\n",
    "\"\"\"\n",
    "Alternative is a term that can be used to do a power analysis for a 1-sided\n",
    "T-Test. This can be specified to be either \"larger\" or \"smaller\", depending on\n",
    "the direction of the test. This is excluded here as a 2-sided test is done.\n",
    "\"\"\"\n",
    "\n",
    "#Create the TTestIndPower object\n",
    "power_calculator = TTestIndPower()\n",
    "\n",
    "#Calculate the required sample size for the given parameters:\n",
    "power_calculator.solve_power(effect_size, nobs1, alpha, power, ratio)"
   ]
  },
  {
   "cell_type": "code",
   "execution_count": null,
   "metadata": {},
   "outputs": [],
   "source": []
  }
 ],
 "metadata": {
  "kernelspec": {
   "display_name": "Python 3",
   "language": "python",
   "name": "python3"
  },
  "language_info": {
   "codemirror_mode": {
    "name": "ipython",
    "version": 3
   },
   "file_extension": ".py",
   "mimetype": "text/x-python",
   "name": "python",
   "nbconvert_exporter": "python",
   "pygments_lexer": "ipython3",
   "version": "3.6.12"
  }
 },
 "nbformat": 4,
 "nbformat_minor": 4
}
