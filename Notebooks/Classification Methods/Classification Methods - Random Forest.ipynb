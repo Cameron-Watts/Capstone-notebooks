{
 "cells": [
  {
   "cell_type": "markdown",
   "metadata": {},
   "source": [
    "# Random Forest Classification of Heart Disease\n",
    "\n",
    "Data downloaded from the UCI Machine Learning Repository at https://archive.ics.uci.edu/ml/datasets/heart+Disease\n",
    "\n",
    "Original data seen from Kaggle at https://www.kaggle.com/ronitf/heart-disease-uci. This data is edited and is incorrect, so is not used.\n",
    "\n",
    "## Importing Packages"
   ]
  },
  {
   "cell_type": "code",
   "execution_count": 1,
   "metadata": {},
   "outputs": [],
   "source": [
    "##Import packages\n",
    "\n",
    "#Data Processing\n",
    "import pandas as pd\n",
    "import numpy as np\n",
    "\n",
    "#Finding the data on our system\n",
    "import pathlib\n",
    "\n",
    "#Decision Tree\n",
    "from sklearn import tree\n",
    "from sklearn.tree import DecisionTreeClassifier\n",
    "\n",
    "#Random Forest\n",
    "from sklearn.ensemble import RandomForestClassifier\n",
    "\n",
    "#Cross-validation\n",
    "from sklearn.model_selection import GridSearchCV\n",
    "\n",
    "#Splitting data into training and test\n",
    "from sklearn.model_selection import train_test_split\n",
    "\n",
    "#Metrics to evaluate\n",
    "from sklearn.metrics import accuracy_score\n",
    "from sklearn.metrics import confusion_matrix, ConfusionMatrixDisplay\n",
    "\n",
    "#Plotting library\n",
    "import matplotlib.pyplot as plt"
   ]
  },
  {
   "cell_type": "markdown",
   "metadata": {},
   "source": [
    "## Import Data"
   ]
  },
  {
   "cell_type": "markdown",
   "metadata": {},
   "source": [
    "### Understanding the Dataset\n",
    "\n",
    "When you collect your own data, you should know exactly what each of the variables represent, and how the variables are encoded. Unfortunately, when working with others' data, we don't start with a full understanding of the data. Not being able to understand the data makes it extremely difficult to gain insight from it. You should definitely document any data of your own, as you might have to come back to it later, or someone else might have to interpret it in the future.\n",
    "\n",
    "As it turns out with the original dataset that was planned to be used in this example ([Kaggle Heart Disease UCI](https://www.kaggle.com/ronitf/heart-disease-uci)), it is also important to check the integrity of the dataset, especially if we plan to use the insights that we extract from the data. Resulting from investigation of the data, it seems that this source has edited data, and is misleading in various areas (for example, the indicator variable values for heart disease were swapped!). Therefore, we swap to using a correct version of the dataset, cited by multiple papers using this: [UCI Machine Learning Repository Heart Disease Dataset](https://archive.ics.uci.edu/ml/datasets/heart+Disease). This illustrates just how important it is to be able to trust our datasets if we're planning to use them.\n",
    "\n",
    "At the UCI Machine Learning Repository, there is an accurate description of every column, of which only 14 are used (we will keep with this convention and only use these columns). The description of these columns is given as follows, to help our understanding:\n",
    "\n",
    "\n",
    "- age: age in years\n",
    "- sex: sex (1 = male; 0 = female)\n",
    "- cp: chest pain type\n",
    "1. Value 1: typical angina\n",
    "2. Value 2: atypical angina\n",
    "3. Value 3: non-anginal pain\n",
    "4. Value 4: asymptomatic\n",
    "- trestbps: resting blood pressure (in mm Hg on admission to the hospital)\n",
    "- chol: serum cholestoral in mg/dl\n",
    "- fbs: (fasting blood sugar > 120 mg/dl) (1 = true; 0 = false)\n",
    "- restecg: resting electrocardiographic results\n",
    "0. Value 0: normal\n",
    "1. Value 1: having ST-T wave abnormality (T wave inversions and/or ST elevation or depression of > 0.05 mV)\n",
    "2. Value 2: showing probable or definite left ventricular hypertrophy by Estes' criteria\n",
    "- thalach: maximum heart rate achieved\n",
    "- exang: exercise induced angina (1 = yes; 0 = no)\n",
    "- oldpeak = ST depression induced by exercise relative to rest\n",
    "- slope: the slope of the peak exercise ST segment\n",
    "1. Value 1: upsloping\n",
    "2. Value 2: flat\n",
    "3. Value 3: downsloping\n",
    "- ca: number of major vessels (0-3) colored by flourosopy\n",
    "- thal: 3 = normal; 6 = fixed defect; 7 = reversable defect\n",
    "- num: diagnosis of heart disease (angiographic disease status)\n",
    "0. Value 0: < 50% diameter narrowing (No disease)\n",
    "1. Value 1-4: > 50% diameter narrowing (Disease)\n",
    "\n",
    "The \"num\" variable is used as our target value, and as described in the description of the dataset, non-zero values here indicate disease. Therefore, we can later transform our dataset to have either a 0, or a 1 for any disease."
   ]
  },
  {
   "cell_type": "markdown",
   "metadata": {},
   "source": [
    "### Importing the Data from the CSV File"
   ]
  },
  {
   "cell_type": "code",
   "execution_count": 2,
   "metadata": {},
   "outputs": [
    {
     "data": {
      "text/html": [
       "<div>\n",
       "<style scoped>\n",
       "    .dataframe tbody tr th:only-of-type {\n",
       "        vertical-align: middle;\n",
       "    }\n",
       "\n",
       "    .dataframe tbody tr th {\n",
       "        vertical-align: top;\n",
       "    }\n",
       "\n",
       "    .dataframe thead th {\n",
       "        text-align: right;\n",
       "    }\n",
       "</style>\n",
       "<table border=\"1\" class=\"dataframe\">\n",
       "  <thead>\n",
       "    <tr style=\"text-align: right;\">\n",
       "      <th></th>\n",
       "      <th>age</th>\n",
       "      <th>sex</th>\n",
       "      <th>cp</th>\n",
       "      <th>trestbps</th>\n",
       "      <th>chol</th>\n",
       "      <th>fbs</th>\n",
       "      <th>restecg</th>\n",
       "      <th>thalach</th>\n",
       "      <th>exang</th>\n",
       "      <th>oldpeak</th>\n",
       "      <th>slope</th>\n",
       "      <th>ca</th>\n",
       "      <th>thal</th>\n",
       "      <th>num</th>\n",
       "    </tr>\n",
       "  </thead>\n",
       "  <tbody>\n",
       "    <tr>\n",
       "      <th>0</th>\n",
       "      <td>63.0</td>\n",
       "      <td>1.0</td>\n",
       "      <td>1.0</td>\n",
       "      <td>145.0</td>\n",
       "      <td>233.0</td>\n",
       "      <td>1.0</td>\n",
       "      <td>2.0</td>\n",
       "      <td>150.0</td>\n",
       "      <td>0.0</td>\n",
       "      <td>2.3</td>\n",
       "      <td>3.0</td>\n",
       "      <td>0.0</td>\n",
       "      <td>6.0</td>\n",
       "      <td>0</td>\n",
       "    </tr>\n",
       "    <tr>\n",
       "      <th>1</th>\n",
       "      <td>67.0</td>\n",
       "      <td>1.0</td>\n",
       "      <td>4.0</td>\n",
       "      <td>160.0</td>\n",
       "      <td>286.0</td>\n",
       "      <td>0.0</td>\n",
       "      <td>2.0</td>\n",
       "      <td>108.0</td>\n",
       "      <td>1.0</td>\n",
       "      <td>1.5</td>\n",
       "      <td>2.0</td>\n",
       "      <td>3.0</td>\n",
       "      <td>3.0</td>\n",
       "      <td>2</td>\n",
       "    </tr>\n",
       "    <tr>\n",
       "      <th>2</th>\n",
       "      <td>67.0</td>\n",
       "      <td>1.0</td>\n",
       "      <td>4.0</td>\n",
       "      <td>120.0</td>\n",
       "      <td>229.0</td>\n",
       "      <td>0.0</td>\n",
       "      <td>2.0</td>\n",
       "      <td>129.0</td>\n",
       "      <td>1.0</td>\n",
       "      <td>2.6</td>\n",
       "      <td>2.0</td>\n",
       "      <td>2.0</td>\n",
       "      <td>7.0</td>\n",
       "      <td>1</td>\n",
       "    </tr>\n",
       "    <tr>\n",
       "      <th>3</th>\n",
       "      <td>37.0</td>\n",
       "      <td>1.0</td>\n",
       "      <td>3.0</td>\n",
       "      <td>130.0</td>\n",
       "      <td>250.0</td>\n",
       "      <td>0.0</td>\n",
       "      <td>0.0</td>\n",
       "      <td>187.0</td>\n",
       "      <td>0.0</td>\n",
       "      <td>3.5</td>\n",
       "      <td>3.0</td>\n",
       "      <td>0.0</td>\n",
       "      <td>3.0</td>\n",
       "      <td>0</td>\n",
       "    </tr>\n",
       "    <tr>\n",
       "      <th>4</th>\n",
       "      <td>41.0</td>\n",
       "      <td>0.0</td>\n",
       "      <td>2.0</td>\n",
       "      <td>130.0</td>\n",
       "      <td>204.0</td>\n",
       "      <td>0.0</td>\n",
       "      <td>2.0</td>\n",
       "      <td>172.0</td>\n",
       "      <td>0.0</td>\n",
       "      <td>1.4</td>\n",
       "      <td>1.0</td>\n",
       "      <td>0.0</td>\n",
       "      <td>3.0</td>\n",
       "      <td>0</td>\n",
       "    </tr>\n",
       "  </tbody>\n",
       "</table>\n",
       "</div>"
      ],
      "text/plain": [
       "    age  sex   cp  trestbps   chol  fbs  restecg  thalach  exang  oldpeak  \\\n",
       "0  63.0  1.0  1.0     145.0  233.0  1.0      2.0    150.0    0.0      2.3   \n",
       "1  67.0  1.0  4.0     160.0  286.0  0.0      2.0    108.0    1.0      1.5   \n",
       "2  67.0  1.0  4.0     120.0  229.0  0.0      2.0    129.0    1.0      2.6   \n",
       "3  37.0  1.0  3.0     130.0  250.0  0.0      0.0    187.0    0.0      3.5   \n",
       "4  41.0  0.0  2.0     130.0  204.0  0.0      2.0    172.0    0.0      1.4   \n",
       "\n",
       "   slope   ca thal  num  \n",
       "0    3.0  0.0  6.0    0  \n",
       "1    2.0  3.0  3.0    2  \n",
       "2    2.0  2.0  7.0    1  \n",
       "3    3.0  0.0  3.0    0  \n",
       "4    1.0  0.0  3.0    0  "
      ]
     },
     "execution_count": 2,
     "metadata": {},
     "output_type": "execute_result"
    }
   ],
   "source": [
    "##Import data from another directory\n",
    "\n",
    "#Define the columns as described\n",
    "cols = [\n",
    "    \"age\",\n",
    "    \"sex\",\n",
    "    \"cp\",\n",
    "    \"trestbps\",\n",
    "    \"chol\",\n",
    "    \"fbs\",\n",
    "    \"restecg\",\n",
    "    \"thalach\",\n",
    "    \"exang\",\n",
    "    \"oldpeak\",\n",
    "    \"slope\",\n",
    "    \"ca\",\n",
    "    \"thal\",\n",
    "    \"num\"\n",
    "]\n",
    "\n",
    "\n",
    "#Find the file from a local directiory\n",
    "p = str(pathlib.Path().resolve()).replace(\"\\\\Notebooks\\\\Classification Methods\", \"\")\n",
    "p += (\"\\\\Data\\\\Raw\\\\Heart_Disease_UCI.csv\")\n",
    "p = pathlib.Path(p).resolve()\n",
    "\n",
    "#Read into a pandas dataframe\n",
    "df = pd.read_csv(p, names=cols)\n",
    "\n",
    "#Preview the dataset\n",
    "df.head()"
   ]
  },
  {
   "cell_type": "markdown",
   "metadata": {},
   "source": [
    "### Basic Data Exploration"
   ]
  },
  {
   "cell_type": "code",
   "execution_count": 3,
   "metadata": {},
   "outputs": [
    {
     "name": "stdout",
     "output_type": "stream",
     "text": [
      "<class 'pandas.core.frame.DataFrame'>\n",
      "RangeIndex: 303 entries, 0 to 302\n",
      "Data columns (total 14 columns):\n",
      " #   Column    Non-Null Count  Dtype  \n",
      "---  ------    --------------  -----  \n",
      " 0   age       303 non-null    float64\n",
      " 1   sex       303 non-null    float64\n",
      " 2   cp        303 non-null    float64\n",
      " 3   trestbps  303 non-null    float64\n",
      " 4   chol      303 non-null    float64\n",
      " 5   fbs       303 non-null    float64\n",
      " 6   restecg   303 non-null    float64\n",
      " 7   thalach   303 non-null    float64\n",
      " 8   exang     303 non-null    float64\n",
      " 9   oldpeak   303 non-null    float64\n",
      " 10  slope     303 non-null    float64\n",
      " 11  ca        303 non-null    object \n",
      " 12  thal      303 non-null    object \n",
      " 13  num       303 non-null    int64  \n",
      "dtypes: float64(11), int64(1), object(2)\n",
      "memory usage: 33.3+ KB\n"
     ]
    }
   ],
   "source": [
    "#Display basic information about the data\n",
    "df.info()"
   ]
  },
  {
   "cell_type": "code",
   "execution_count": 4,
   "metadata": {},
   "outputs": [],
   "source": [
    "#Transform the target variable \"num\" into an indicator variable\n",
    "df[\"num\"] = [0 if i == 0 else 1 for i in df[\"num\"]]"
   ]
  },
  {
   "cell_type": "markdown",
   "metadata": {},
   "source": [
    "Notice that we have a few weird values in the dataset, such as this one. We can't use these datapoints for our analysis, and there are only a couple of them, so we will drop these rows. From our call of `df.info()`, we can see that these are in the \"ca\" and \"thal\" columns (because the data-type is object, meaning anything can occupy the position, rather than float64, specifying a decimal number), so we remove rows containing non-numeric values in these columns."
   ]
  },
  {
   "cell_type": "code",
   "execution_count": 5,
   "metadata": {},
   "outputs": [
    {
     "data": {
      "text/plain": [
       "'?'"
      ]
     },
     "execution_count": 5,
     "metadata": {},
     "output_type": "execute_result"
    }
   ],
   "source": [
    "#Show weird value\n",
    "df[\"thal\"][266]"
   ]
  },
  {
   "cell_type": "code",
   "execution_count": 6,
   "metadata": {},
   "outputs": [
    {
     "name": "stdout",
     "output_type": "stream",
     "text": [
      "<class 'pandas.core.frame.DataFrame'>\n",
      "Int64Index: 297 entries, 0 to 301\n",
      "Data columns (total 14 columns):\n",
      " #   Column    Non-Null Count  Dtype  \n",
      "---  ------    --------------  -----  \n",
      " 0   age       297 non-null    float64\n",
      " 1   sex       297 non-null    float64\n",
      " 2   cp        297 non-null    float64\n",
      " 3   trestbps  297 non-null    float64\n",
      " 4   chol      297 non-null    float64\n",
      " 5   fbs       297 non-null    float64\n",
      " 6   restecg   297 non-null    float64\n",
      " 7   thalach   297 non-null    float64\n",
      " 8   exang     297 non-null    float64\n",
      " 9   oldpeak   297 non-null    float64\n",
      " 10  slope     297 non-null    float64\n",
      " 11  ca        297 non-null    float64\n",
      " 12  thal      297 non-null    float64\n",
      " 13  num       297 non-null    int64  \n",
      "dtypes: float64(13), int64(1)\n",
      "memory usage: 34.8 KB\n"
     ]
    }
   ],
   "source": [
    "#Remove non-numeric datapoints\n",
    "df = df[pd.to_numeric(df[\"ca\"], errors='coerce').notnull()]\n",
    "df = df[pd.to_numeric(df[\"thal\"], errors='coerce').notnull()]\n",
    "\n",
    "#Change columns to numeric\n",
    "df[\"ca\"] = pd.to_numeric(df[\"ca\"])\n",
    "df[\"thal\"] = pd.to_numeric(df[\"thal\"])\n",
    "\n",
    "#Show our summary again, to check if our conversion worked\n",
    "df.info()"
   ]
  },
  {
   "cell_type": "markdown",
   "metadata": {},
   "source": [
    "## Data Transformation"
   ]
  },
  {
   "cell_type": "markdown",
   "metadata": {},
   "source": [
    "### One-Hot Encoding\n",
    "\n",
    "The data that we have has several categorical variables, which, although represented numerically, do need to be encoded. These variables have more than 2 categories that datapoints are fit into (those with 2 categories are already effectively encoded), which includes:\n",
    "- cp\n",
    "- restecg\n",
    "- slope\n",
    "- thal\n",
    "- ca\n",
    "\n",
    "We one-hot encode these using a built-in Pandas function `pd.get_dummies()`. We don't yet add these variables back into the DataFrame because of the scaling step that we will perform later, that is not appropriate for categorical variables such as these. Later, we will reconstruct a full DataFrame, such that we can train our model."
   ]
  },
  {
   "cell_type": "code",
   "execution_count": 7,
   "metadata": {},
   "outputs": [
    {
     "data": {
      "text/html": [
       "<div>\n",
       "<style scoped>\n",
       "    .dataframe tbody tr th:only-of-type {\n",
       "        vertical-align: middle;\n",
       "    }\n",
       "\n",
       "    .dataframe tbody tr th {\n",
       "        vertical-align: top;\n",
       "    }\n",
       "\n",
       "    .dataframe thead th {\n",
       "        text-align: right;\n",
       "    }\n",
       "</style>\n",
       "<table border=\"1\" class=\"dataframe\">\n",
       "  <thead>\n",
       "    <tr style=\"text-align: right;\">\n",
       "      <th></th>\n",
       "      <th>age</th>\n",
       "      <th>sex</th>\n",
       "      <th>trestbps</th>\n",
       "      <th>chol</th>\n",
       "      <th>fbs</th>\n",
       "      <th>thalach</th>\n",
       "      <th>exang</th>\n",
       "      <th>oldpeak</th>\n",
       "      <th>num</th>\n",
       "    </tr>\n",
       "  </thead>\n",
       "  <tbody>\n",
       "    <tr>\n",
       "      <th>0</th>\n",
       "      <td>63.0</td>\n",
       "      <td>1.0</td>\n",
       "      <td>145.0</td>\n",
       "      <td>233.0</td>\n",
       "      <td>1.0</td>\n",
       "      <td>150.0</td>\n",
       "      <td>0.0</td>\n",
       "      <td>2.3</td>\n",
       "      <td>0</td>\n",
       "    </tr>\n",
       "    <tr>\n",
       "      <th>1</th>\n",
       "      <td>67.0</td>\n",
       "      <td>1.0</td>\n",
       "      <td>160.0</td>\n",
       "      <td>286.0</td>\n",
       "      <td>0.0</td>\n",
       "      <td>108.0</td>\n",
       "      <td>1.0</td>\n",
       "      <td>1.5</td>\n",
       "      <td>1</td>\n",
       "    </tr>\n",
       "    <tr>\n",
       "      <th>2</th>\n",
       "      <td>67.0</td>\n",
       "      <td>1.0</td>\n",
       "      <td>120.0</td>\n",
       "      <td>229.0</td>\n",
       "      <td>0.0</td>\n",
       "      <td>129.0</td>\n",
       "      <td>1.0</td>\n",
       "      <td>2.6</td>\n",
       "      <td>1</td>\n",
       "    </tr>\n",
       "    <tr>\n",
       "      <th>3</th>\n",
       "      <td>37.0</td>\n",
       "      <td>1.0</td>\n",
       "      <td>130.0</td>\n",
       "      <td>250.0</td>\n",
       "      <td>0.0</td>\n",
       "      <td>187.0</td>\n",
       "      <td>0.0</td>\n",
       "      <td>3.5</td>\n",
       "      <td>0</td>\n",
       "    </tr>\n",
       "    <tr>\n",
       "      <th>4</th>\n",
       "      <td>41.0</td>\n",
       "      <td>0.0</td>\n",
       "      <td>130.0</td>\n",
       "      <td>204.0</td>\n",
       "      <td>0.0</td>\n",
       "      <td>172.0</td>\n",
       "      <td>0.0</td>\n",
       "      <td>1.4</td>\n",
       "      <td>0</td>\n",
       "    </tr>\n",
       "    <tr>\n",
       "      <th>...</th>\n",
       "      <td>...</td>\n",
       "      <td>...</td>\n",
       "      <td>...</td>\n",
       "      <td>...</td>\n",
       "      <td>...</td>\n",
       "      <td>...</td>\n",
       "      <td>...</td>\n",
       "      <td>...</td>\n",
       "      <td>...</td>\n",
       "    </tr>\n",
       "    <tr>\n",
       "      <th>297</th>\n",
       "      <td>57.0</td>\n",
       "      <td>0.0</td>\n",
       "      <td>140.0</td>\n",
       "      <td>241.0</td>\n",
       "      <td>0.0</td>\n",
       "      <td>123.0</td>\n",
       "      <td>1.0</td>\n",
       "      <td>0.2</td>\n",
       "      <td>1</td>\n",
       "    </tr>\n",
       "    <tr>\n",
       "      <th>298</th>\n",
       "      <td>45.0</td>\n",
       "      <td>1.0</td>\n",
       "      <td>110.0</td>\n",
       "      <td>264.0</td>\n",
       "      <td>0.0</td>\n",
       "      <td>132.0</td>\n",
       "      <td>0.0</td>\n",
       "      <td>1.2</td>\n",
       "      <td>1</td>\n",
       "    </tr>\n",
       "    <tr>\n",
       "      <th>299</th>\n",
       "      <td>68.0</td>\n",
       "      <td>1.0</td>\n",
       "      <td>144.0</td>\n",
       "      <td>193.0</td>\n",
       "      <td>1.0</td>\n",
       "      <td>141.0</td>\n",
       "      <td>0.0</td>\n",
       "      <td>3.4</td>\n",
       "      <td>1</td>\n",
       "    </tr>\n",
       "    <tr>\n",
       "      <th>300</th>\n",
       "      <td>57.0</td>\n",
       "      <td>1.0</td>\n",
       "      <td>130.0</td>\n",
       "      <td>131.0</td>\n",
       "      <td>0.0</td>\n",
       "      <td>115.0</td>\n",
       "      <td>1.0</td>\n",
       "      <td>1.2</td>\n",
       "      <td>1</td>\n",
       "    </tr>\n",
       "    <tr>\n",
       "      <th>301</th>\n",
       "      <td>57.0</td>\n",
       "      <td>0.0</td>\n",
       "      <td>130.0</td>\n",
       "      <td>236.0</td>\n",
       "      <td>0.0</td>\n",
       "      <td>174.0</td>\n",
       "      <td>0.0</td>\n",
       "      <td>0.0</td>\n",
       "      <td>1</td>\n",
       "    </tr>\n",
       "  </tbody>\n",
       "</table>\n",
       "<p>297 rows × 9 columns</p>\n",
       "</div>"
      ],
      "text/plain": [
       "      age  sex  trestbps   chol  fbs  thalach  exang  oldpeak  num\n",
       "0    63.0  1.0     145.0  233.0  1.0    150.0    0.0      2.3    0\n",
       "1    67.0  1.0     160.0  286.0  0.0    108.0    1.0      1.5    1\n",
       "2    67.0  1.0     120.0  229.0  0.0    129.0    1.0      2.6    1\n",
       "3    37.0  1.0     130.0  250.0  0.0    187.0    0.0      3.5    0\n",
       "4    41.0  0.0     130.0  204.0  0.0    172.0    0.0      1.4    0\n",
       "..    ...  ...       ...    ...  ...      ...    ...      ...  ...\n",
       "297  57.0  0.0     140.0  241.0  0.0    123.0    1.0      0.2    1\n",
       "298  45.0  1.0     110.0  264.0  0.0    132.0    0.0      1.2    1\n",
       "299  68.0  1.0     144.0  193.0  1.0    141.0    0.0      3.4    1\n",
       "300  57.0  1.0     130.0  131.0  0.0    115.0    1.0      1.2    1\n",
       "301  57.0  0.0     130.0  236.0  0.0    174.0    0.0      0.0    1\n",
       "\n",
       "[297 rows x 9 columns]"
      ]
     },
     "execution_count": 7,
     "metadata": {},
     "output_type": "execute_result"
    }
   ],
   "source": [
    "#One-hot encoding\n",
    "cp_dummies = pd.get_dummies(df[\"cp\"], prefix=\"cp\")\n",
    "restecg_dummies = pd.get_dummies(df[\"restecg\"], prefix=\"restecg\")\n",
    "slope_dummies = pd.get_dummies(df[\"slope\"], prefix=\"slope\")\n",
    "thal_dummies = pd.get_dummies(df[\"thal\"], prefix=\"thal\")\n",
    "ca_dummies = pd.get_dummies(df[\"ca\"], prefix=\"ca\")\n",
    "\n",
    "#Drop the original variables from the DataFrame\n",
    "df = df.drop([\"cp\", \"restecg\", \"slope\", \"thal\", \"ca\"], axis=1)\n",
    "df"
   ]
  },
  {
   "cell_type": "markdown",
   "metadata": {},
   "source": [
    "### Recombine Data\n",
    "\n",
    "Here, we recombine the data back into a single DataFrame (exlcuding the target/dependent variable \"num\"), such that we can fit our model to it later.\n",
    "\n",
    "Unfortunately, after performing opertaions on the separate DataFrames, the indexes become off, such that we have to reset these for the data to realign."
   ]
  },
  {
   "cell_type": "code",
   "execution_count": 8,
   "metadata": {},
   "outputs": [],
   "source": [
    "#Reset all indexes\n",
    "df = df.reset_index()\n",
    "cp_dummies = cp_dummies.reset_index()\n",
    "restecg_dummies = restecg_dummies.reset_index()\n",
    "slope_dummies = slope_dummies.reset_index()\n",
    "thal_dummies = thal_dummies.reset_index()\n",
    "ca_dummies = ca_dummies.reset_index()\n",
    "\n",
    "#Recombine all sources of data back into a singular DataFrame object\n",
    "df = pd.concat([df, \n",
    "                cp_dummies, \n",
    "                restecg_dummies, \n",
    "                slope_dummies, \n",
    "                thal_dummies,\n",
    "                ca_dummies], ignore_index=False, axis=1)\n",
    "\n",
    "#Separate dependent variable\n",
    "y = df[\"num\"]\n",
    "df = df.drop([\"num\"], axis=1)"
   ]
  },
  {
   "cell_type": "code",
   "execution_count": 9,
   "metadata": {},
   "outputs": [
    {
     "data": {
      "text/html": [
       "<div>\n",
       "<style scoped>\n",
       "    .dataframe tbody tr th:only-of-type {\n",
       "        vertical-align: middle;\n",
       "    }\n",
       "\n",
       "    .dataframe tbody tr th {\n",
       "        vertical-align: top;\n",
       "    }\n",
       "\n",
       "    .dataframe thead th {\n",
       "        text-align: right;\n",
       "    }\n",
       "</style>\n",
       "<table border=\"1\" class=\"dataframe\">\n",
       "  <thead>\n",
       "    <tr style=\"text-align: right;\">\n",
       "      <th></th>\n",
       "      <th>index</th>\n",
       "      <th>age</th>\n",
       "      <th>sex</th>\n",
       "      <th>trestbps</th>\n",
       "      <th>chol</th>\n",
       "      <th>fbs</th>\n",
       "      <th>thalach</th>\n",
       "      <th>exang</th>\n",
       "      <th>oldpeak</th>\n",
       "      <th>index</th>\n",
       "      <th>...</th>\n",
       "      <th>slope_3.0</th>\n",
       "      <th>index</th>\n",
       "      <th>thal_3.0</th>\n",
       "      <th>thal_6.0</th>\n",
       "      <th>thal_7.0</th>\n",
       "      <th>index</th>\n",
       "      <th>ca_0.0</th>\n",
       "      <th>ca_1.0</th>\n",
       "      <th>ca_2.0</th>\n",
       "      <th>ca_3.0</th>\n",
       "    </tr>\n",
       "  </thead>\n",
       "  <tbody>\n",
       "    <tr>\n",
       "      <th>0</th>\n",
       "      <td>0</td>\n",
       "      <td>63.0</td>\n",
       "      <td>1.0</td>\n",
       "      <td>145.0</td>\n",
       "      <td>233.0</td>\n",
       "      <td>1.0</td>\n",
       "      <td>150.0</td>\n",
       "      <td>0.0</td>\n",
       "      <td>2.3</td>\n",
       "      <td>0</td>\n",
       "      <td>...</td>\n",
       "      <td>1</td>\n",
       "      <td>0</td>\n",
       "      <td>0</td>\n",
       "      <td>1</td>\n",
       "      <td>0</td>\n",
       "      <td>0</td>\n",
       "      <td>1</td>\n",
       "      <td>0</td>\n",
       "      <td>0</td>\n",
       "      <td>0</td>\n",
       "    </tr>\n",
       "    <tr>\n",
       "      <th>1</th>\n",
       "      <td>1</td>\n",
       "      <td>67.0</td>\n",
       "      <td>1.0</td>\n",
       "      <td>160.0</td>\n",
       "      <td>286.0</td>\n",
       "      <td>0.0</td>\n",
       "      <td>108.0</td>\n",
       "      <td>1.0</td>\n",
       "      <td>1.5</td>\n",
       "      <td>1</td>\n",
       "      <td>...</td>\n",
       "      <td>0</td>\n",
       "      <td>1</td>\n",
       "      <td>1</td>\n",
       "      <td>0</td>\n",
       "      <td>0</td>\n",
       "      <td>1</td>\n",
       "      <td>0</td>\n",
       "      <td>0</td>\n",
       "      <td>0</td>\n",
       "      <td>1</td>\n",
       "    </tr>\n",
       "    <tr>\n",
       "      <th>2</th>\n",
       "      <td>2</td>\n",
       "      <td>67.0</td>\n",
       "      <td>1.0</td>\n",
       "      <td>120.0</td>\n",
       "      <td>229.0</td>\n",
       "      <td>0.0</td>\n",
       "      <td>129.0</td>\n",
       "      <td>1.0</td>\n",
       "      <td>2.6</td>\n",
       "      <td>2</td>\n",
       "      <td>...</td>\n",
       "      <td>0</td>\n",
       "      <td>2</td>\n",
       "      <td>0</td>\n",
       "      <td>0</td>\n",
       "      <td>1</td>\n",
       "      <td>2</td>\n",
       "      <td>0</td>\n",
       "      <td>0</td>\n",
       "      <td>1</td>\n",
       "      <td>0</td>\n",
       "    </tr>\n",
       "    <tr>\n",
       "      <th>3</th>\n",
       "      <td>3</td>\n",
       "      <td>37.0</td>\n",
       "      <td>1.0</td>\n",
       "      <td>130.0</td>\n",
       "      <td>250.0</td>\n",
       "      <td>0.0</td>\n",
       "      <td>187.0</td>\n",
       "      <td>0.0</td>\n",
       "      <td>3.5</td>\n",
       "      <td>3</td>\n",
       "      <td>...</td>\n",
       "      <td>1</td>\n",
       "      <td>3</td>\n",
       "      <td>1</td>\n",
       "      <td>0</td>\n",
       "      <td>0</td>\n",
       "      <td>3</td>\n",
       "      <td>1</td>\n",
       "      <td>0</td>\n",
       "      <td>0</td>\n",
       "      <td>0</td>\n",
       "    </tr>\n",
       "    <tr>\n",
       "      <th>4</th>\n",
       "      <td>4</td>\n",
       "      <td>41.0</td>\n",
       "      <td>0.0</td>\n",
       "      <td>130.0</td>\n",
       "      <td>204.0</td>\n",
       "      <td>0.0</td>\n",
       "      <td>172.0</td>\n",
       "      <td>0.0</td>\n",
       "      <td>1.4</td>\n",
       "      <td>4</td>\n",
       "      <td>...</td>\n",
       "      <td>0</td>\n",
       "      <td>4</td>\n",
       "      <td>1</td>\n",
       "      <td>0</td>\n",
       "      <td>0</td>\n",
       "      <td>4</td>\n",
       "      <td>1</td>\n",
       "      <td>0</td>\n",
       "      <td>0</td>\n",
       "      <td>0</td>\n",
       "    </tr>\n",
       "  </tbody>\n",
       "</table>\n",
       "<p>5 rows × 31 columns</p>\n",
       "</div>"
      ],
      "text/plain": [
       "   index   age  sex  trestbps   chol  fbs  thalach  exang  oldpeak  index  \\\n",
       "0      0  63.0  1.0     145.0  233.0  1.0    150.0    0.0      2.3      0   \n",
       "1      1  67.0  1.0     160.0  286.0  0.0    108.0    1.0      1.5      1   \n",
       "2      2  67.0  1.0     120.0  229.0  0.0    129.0    1.0      2.6      2   \n",
       "3      3  37.0  1.0     130.0  250.0  0.0    187.0    0.0      3.5      3   \n",
       "4      4  41.0  0.0     130.0  204.0  0.0    172.0    0.0      1.4      4   \n",
       "\n",
       "   ...  slope_3.0  index  thal_3.0  thal_6.0  thal_7.0  index  ca_0.0  ca_1.0  \\\n",
       "0  ...          1      0         0         1         0      0       1       0   \n",
       "1  ...          0      1         1         0         0      1       0       0   \n",
       "2  ...          0      2         0         0         1      2       0       0   \n",
       "3  ...          1      3         1         0         0      3       1       0   \n",
       "4  ...          0      4         1         0         0      4       1       0   \n",
       "\n",
       "   ca_2.0  ca_3.0  \n",
       "0       0       0  \n",
       "1       0       1  \n",
       "2       1       0  \n",
       "3       0       0  \n",
       "4       0       0  \n",
       "\n",
       "[5 rows x 31 columns]"
      ]
     },
     "execution_count": 9,
     "metadata": {},
     "output_type": "execute_result"
    }
   ],
   "source": [
    "df.head()"
   ]
  },
  {
   "cell_type": "code",
   "execution_count": 10,
   "metadata": {},
   "outputs": [],
   "source": [
    "df = df.drop([\"index\"], axis=1)"
   ]
  },
  {
   "cell_type": "code",
   "execution_count": 11,
   "metadata": {},
   "outputs": [
    {
     "data": {
      "text/plain": [
       "(297, 25)"
      ]
     },
     "execution_count": 11,
     "metadata": {},
     "output_type": "execute_result"
    }
   ],
   "source": [
    "df.shape"
   ]
  },
  {
   "cell_type": "markdown",
   "metadata": {},
   "source": [
    "### Test-Train Split\n",
    "\n",
    "A vital part of machine learning is being able to test with data that the model is not trained on. This means that we can test the generalisability of our model with this data. We use SciKit-Learn's train_test_split in order to take 20% of the data at random to be test data. This method keeps the associated dependent variable values with each row of the independent variables, and also randomises the order."
   ]
  },
  {
   "cell_type": "code",
   "execution_count": 12,
   "metadata": {},
   "outputs": [],
   "source": [
    "X_train, X_test, y_train, y_test = train_test_split(df, y, test_size=0.2, random_state=0)"
   ]
  },
  {
   "cell_type": "markdown",
   "metadata": {},
   "source": [
    "## Decision Tree Training\n",
    "\n",
    "Here, we can train and view a decision tree classifier, to get a sense of what we will be doing in the random forest model.\n",
    "\n",
    "### Visualisation\n",
    "\n",
    "The decision tree classifier by Scikit-Learn actually has a nice visualisation for it, so we can see exactly the decisions taken at each step. Here, we use this to get an idea of what the deeper trees might look like, by training one that is easy to visualise."
   ]
  },
  {
   "cell_type": "code",
   "execution_count": 13,
   "metadata": {},
   "outputs": [
    {
     "data": {
      "text/plain": [
       "[Text(167.4, 181.2, 'X[11] <= 0.5\\ngini = 0.495\\nsamples = 237\\nvalue = [130, 107]'),\n",
       " Text(83.7, 108.72, 'X[18] <= 0.5\\ngini = 0.296\\nsamples = 122\\nvalue = [100, 22]'),\n",
       " Text(41.85, 36.23999999999998, 'gini = 0.48\\nsamples = 35\\nvalue = [21, 14]'),\n",
       " Text(125.55000000000001, 36.23999999999998, 'gini = 0.167\\nsamples = 87\\nvalue = [79, 8]'),\n",
       " Text(251.10000000000002, 108.72, 'X[18] <= 0.5\\ngini = 0.386\\nsamples = 115\\nvalue = [30, 85]'),\n",
       " Text(209.25, 36.23999999999998, 'gini = 0.193\\nsamples = 74\\nvalue = [8, 66]'),\n",
       " Text(292.95, 36.23999999999998, 'gini = 0.497\\nsamples = 41\\nvalue = [22, 19]')]"
      ]
     },
     "execution_count": 13,
     "metadata": {},
     "output_type": "execute_result"
    },
    {
     "data": {
      "image/png": "[encoded data removed]",
      "text/plain": [
       "<Figure size 432x288 with 1 Axes>"
      ]
     },
     "metadata": {
      "needs_background": "light"
     },
     "output_type": "display_data"
    }
   ],
   "source": [
    "#We train a decision tree that only has a short depth\n",
    "# The choice of parameters doesn't really matter here, apart from max_depth\n",
    "dtc = DecisionTreeClassifier(random_state=0, max_depth=2, min_samples_leaf=2, min_samples_split=2)\n",
    "\n",
    "#Fit on training data\n",
    "dtc.fit(X_train, y_train)\n",
    "\n",
    "#Visualise\n",
    "tree.plot_tree(dtc)"
   ]
  },
  {
   "cell_type": "code",
   "execution_count": 14,
   "metadata": {},
   "outputs": [
    {
     "data": {
      "text/plain": [
       "Index(['cp_4.0', 'thal_3.0'], dtype='object')"
      ]
     },
     "execution_count": 14,
     "metadata": {},
     "output_type": "execute_result"
    }
   ],
   "source": [
    "#Show what our named variables \"X[11]\" and \"X[18]\" are\n",
    "df.columns[[11, 18]]"
   ]
  },
  {
   "cell_type": "markdown",
   "metadata": {},
   "source": [
    "From this simple classifier, we can see that we are only considering two variables (due to the 2 layers). These variables names are then printed out. Now, we can actually write out the decisions made in a model and predict a classification!\n",
    "\n",
    "1. Start\n",
    "2. Does the patient have a value for chest pain index 4 of less than 0.5\n",
    "    \n",
    "    (As this is the asymptomatic indicator, we are essentially asking \"Is the patient having any chest pain?\")\n",
    "    \n",
    "    According to the documentation [here](https://scikit-learn.org/stable/auto_examples/tree/plot_unveil_tree_structure.html#sphx-glr-auto-examples-tree-plot-unveil-tree-structure-py) we can figure out that a value less than the threshold (a \"no\" in this case) goes to the left\n",
    "    \n",
    "    \n",
    "3. Next, we ask if the patient has a value for \"thal\" of 3.0\n",
    "    \n",
    "    (Similarly, as this is an indicator, and 3 is the indicator for no defect, we are asking \"Does the patient have no thal defect?\")\n",
    "    \n",
    "    Again, if this is a \"no\" (value of 0), we go to the left side at this node\n",
    "    \n",
    "    \n",
    "    \n",
    "4. Finally, we classify according to the results from these two questions.\n",
    "\n",
    "As a note, we don't necessarily need for the questions asked during progression through the tree to be in the same order, or have the same cutoff. We could just as easily ask about different variables on each side!\n",
    "\n",
    "\n",
    "In the \"values\" section at the bottom we can see the number of results from each class at each point. This isn't perfect, as we have some crossover, but is better than guessing. We can see how good this predictor is on the training and test data below:"
   ]
  },
  {
   "cell_type": "code",
   "execution_count": 15,
   "metadata": {},
   "outputs": [
    {
     "name": "stdout",
     "output_type": "stream",
     "text": [
      "Accuracy score for training data 0.7932489451476793\n",
      "Accuracy score for test data 0.6833333333333333\n"
     ]
    }
   ],
   "source": [
    "##Predict against test and training data\n",
    "y_pred_train = dtc.predict(X_train)\n",
    "y_pred_test = dtc.predict(X_test)\n",
    "\n",
    "#Accuracy score for training data\n",
    "print(\"Accuracy score for training data\", accuracy_score(y_train, y_pred_train))\n",
    "\n",
    "#Accuracy score for test data\n",
    "print(\"Accuracy score for test data\", accuracy_score(y_test, y_pred_test))"
   ]
  },
  {
   "cell_type": "markdown",
   "metadata": {},
   "source": [
    "Not bad for only looking at 2 variables!"
   ]
  },
  {
   "cell_type": "markdown",
   "metadata": {},
   "source": [
    "### Grid-Search Cross Validation\n",
    "\n",
    "Here, we test different potential values of hyperparameters for our model, to see which performs the best on non-training data. This is done through a grid-search cross validation method, in which we specify lists of parameters to try. The model is then trained according to all possible combinations of these parameters, using most of the training data, but not all. We then test this model against the remaining training data, to see how well this model choice generalises. Finally, the best parameter choices are chosen, and the model is trained using all of our training data.\n",
    "\n",
    "In the end, we get a trained model with the best parameters for generalising to unseen data, from the possible combinations of hyperparameters given to the grid-search."
   ]
  },
  {
   "cell_type": "code",
   "execution_count": 16,
   "metadata": {},
   "outputs": [
    {
     "data": {
      "text/plain": [
       "GridSearchCV(estimator=DecisionTreeClassifier(random_state=0),\n",
       "             param_grid={'max_depth': [1, 2, 3, 4, 5, 6, 7, 8, 9, 10, 20, 30,\n",
       "                                       40],\n",
       "                         'min_samples_leaf': [1, 2, 3, 4, 5, 6, 7, 8, 9],\n",
       "                         'min_samples_split': [2, 3, 4, 5, 6, 7, 8, 9]})"
      ]
     },
     "execution_count": 16,
     "metadata": {},
     "output_type": "execute_result"
    }
   ],
   "source": [
    "#SVM Classifier object\n",
    "dtc = DecisionTreeClassifier(random_state=0)\n",
    "\n",
    "#Define the parameters that we want to test for\n",
    "parameters = {\"max_depth\": [1,2,3,4,5,6,7,8,9,10,20,30,40],\n",
    "              \"min_samples_split\": list(range(2,10)),\n",
    "              \"min_samples_leaf\": list(range(1,10))}\n",
    "\n",
    "#Define the grid-search\n",
    "clf = GridSearchCV(dtc, parameters)\n",
    "\n",
    "#Fit the model\n",
    "clf.fit(X_train, y_train)"
   ]
  },
  {
   "cell_type": "code",
   "execution_count": 17,
   "metadata": {},
   "outputs": [
    {
     "data": {
      "text/plain": [
       "{'max_depth': 6, 'min_samples_leaf': 3, 'min_samples_split': 2}"
      ]
     },
     "execution_count": 17,
     "metadata": {},
     "output_type": "execute_result"
    }
   ],
   "source": [
    "#View the best parameter for this model\n",
    "clf.best_params_"
   ]
  },
  {
   "cell_type": "markdown",
   "metadata": {},
   "source": [
    "Here, we can see that the best chosen hyperparameters are:\n",
    "- max_depth = 6\n",
    "- minimum samples for a leaf node = 3\n",
    "- minimum samples to split out = 2\n",
    "\n",
    "\n",
    "Next, we can again view the accuracy of this model (though it is not our final model yet), and see that we get a slight improvement over the less deep decision tree."
   ]
  },
  {
   "cell_type": "code",
   "execution_count": 18,
   "metadata": {},
   "outputs": [
    {
     "name": "stdout",
     "output_type": "stream",
     "text": [
      "Accuracy score for training data 0.9324894514767933\n",
      "Accuracy score for test data 0.7333333333333333\n"
     ]
    }
   ],
   "source": [
    "##Predict against test and training data\n",
    "y_pred_train = clf.predict(X_train)\n",
    "y_pred_test = clf.predict(X_test)\n",
    "\n",
    "#Accuracy score for training data\n",
    "print(\"Accuracy score for training data\", accuracy_score(y_train, y_pred_train))\n",
    "\n",
    "#Accuracy score for test data\n",
    "print(\"Accuracy score for test data\", accuracy_score(y_test, y_pred_test))"
   ]
  },
  {
   "cell_type": "markdown",
   "metadata": {},
   "source": [
    "## Random Forest Training\n",
    "\n",
    "Next, we use the model that generally performs best in this class - the Random Forest. This is related to decision trees, and as you might be able to guess by the name, is made up of many decision trees. The way that a random forest works is by taking samples of the training data (with replacement, so we could use the same sample twice), and training decision tree classifiers on this subsample. Once we have a lot of these individual decision trees, we create our overall forest classifier. In the Random Forest, we get a prediction from each decision tree (constructed from randomly sampled training data), and find the class with the most \"votes\". This class is then predicted for the given data-point!\n",
    "\n",
    "There are again parameters for this model, so we will use another grid-search to train. The parameter that we add \"n_estimators\" defines how many individual decision trees make up our forest.\n"
   ]
  },
  {
   "cell_type": "code",
   "execution_count": 19,
   "metadata": {},
   "outputs": [
    {
     "data": {
      "text/plain": [
       "GridSearchCV(estimator=RandomForestClassifier(random_state=0),\n",
       "             param_grid={'max_depth': [1, 2, 3, 4, 5, 6, 7, 8, 9, 10, 20],\n",
       "                         'min_samples_leaf': [1, 2, 3, 4],\n",
       "                         'min_samples_split': [2, 3, 4],\n",
       "                         'n_estimators': [25, 50, 60, 70, 80, 90, 100, 125,\n",
       "                                          150]})"
      ]
     },
     "execution_count": 19,
     "metadata": {},
     "output_type": "execute_result"
    }
   ],
   "source": [
    "#Random Forest Classifier Object\n",
    "dtc = RandomForestClassifier(random_state=0)\n",
    "\n",
    "#Define the parameters that we want to test for\n",
    "parameters = {\"max_depth\": [1,2,3,4,5,6,7,8,9,10,20],\n",
    "              \"min_samples_split\": list(range(2,5)),\n",
    "              \"min_samples_leaf\": list(range(1,5)),\n",
    "              \"n_estimators\": [25,50,60,70,80,90,100,125,150]}\n",
    "\n",
    "#Define the grid-search\n",
    "clf = GridSearchCV(dtc, parameters)\n",
    "\n",
    "#Fit the model\n",
    "clf.fit(X_train, y_train)"
   ]
  },
  {
   "cell_type": "code",
   "execution_count": 20,
   "metadata": {},
   "outputs": [
    {
     "data": {
      "text/plain": [
       "{'max_depth': 2,\n",
       " 'min_samples_leaf': 2,\n",
       " 'min_samples_split': 2,\n",
       " 'n_estimators': 70}"
      ]
     },
     "execution_count": 20,
     "metadata": {},
     "output_type": "execute_result"
    }
   ],
   "source": [
    "#View the best parameter for this model\n",
    "clf.best_params_"
   ]
  },
  {
   "cell_type": "markdown",
   "metadata": {},
   "source": [
    "## Prediction on Test Data\n",
    "\n",
    "Finally, we can predict against test-data to evaluate the usefulness of our model. "
   ]
  },
  {
   "cell_type": "markdown",
   "metadata": {},
   "source": [
    "### Making Predictions"
   ]
  },
  {
   "cell_type": "code",
   "execution_count": 21,
   "metadata": {},
   "outputs": [],
   "source": [
    "#Predict against test and training data\n",
    "y_pred_train = clf.predict(X_train)\n",
    "y_pred_test = clf.predict(X_test)"
   ]
  },
  {
   "cell_type": "markdown",
   "metadata": {},
   "source": [
    "### Testing the Accuracy of Predictions\n",
    "\n",
    "Here, we look at the proportion of cases in both the test and training dataset that are successfully classified."
   ]
  },
  {
   "cell_type": "code",
   "execution_count": 22,
   "metadata": {},
   "outputs": [
    {
     "data": {
      "text/plain": [
       "0.8649789029535865"
      ]
     },
     "execution_count": 22,
     "metadata": {},
     "output_type": "execute_result"
    }
   ],
   "source": [
    "#Accuracy score for training data\n",
    "accuracy_score(y_train, y_pred_train)"
   ]
  },
  {
   "cell_type": "code",
   "execution_count": 23,
   "metadata": {},
   "outputs": [
    {
     "data": {
      "text/plain": [
       "0.8"
      ]
     },
     "execution_count": 23,
     "metadata": {},
     "output_type": "execute_result"
    }
   ],
   "source": [
    "#Accuracy score for test data\n",
    "accuracy_score(y_test, y_pred_test)"
   ]
  },
  {
   "cell_type": "markdown",
   "metadata": {},
   "source": [
    "### Confusion Matrix\n",
    "\n",
    "Another metric that we can use to show the accuracy of the prediction is by using a confusion matrix. This shows us exactly which true labels were classified as, normalised to be a proportion of the dataset. This can be extremely useful in cases with many labels, especially when things go wrong. For example, we might end up training a model that misclassifies all plants of one species as another species. In this case, we might want to collect more variables, or build a secondary classifier to differentiate these two species from each other, after they have been separated from the rest of the data.\n",
    "\n",
    "To do this, we first map the 0 and 1 indicators contained in our true values (`y_test`), and our predicted values (`y_pred_test`) to the labels \"No Disease\" and \"Disease\"."
   ]
  },
  {
   "cell_type": "code",
   "execution_count": 24,
   "metadata": {},
   "outputs": [],
   "source": [
    "#Map the 0/1 indicators into labels\n",
    "map_dict = {0: \"No Disease\",\n",
    "            1: \"Disease\"}\n",
    "\n",
    "\n",
    "#Create a lambda function to apply this as a convertion\n",
    "index_to_label = lambda n: np.array([map_dict.get(x) for x in n])\n",
    "\n",
    "#Use this to convert our values into labels\n",
    "y_test_label = index_to_label(y_test)\n",
    "y_pred_test_label = index_to_label(y_pred_test)"
   ]
  },
  {
   "cell_type": "code",
   "execution_count": 25,
   "metadata": {},
   "outputs": [
    {
     "data": {
      "text/plain": [
       "array(['No Disease', 'No Disease', 'Disease', 'No Disease', 'No Disease',\n",
       "       'Disease', 'Disease', 'No Disease', 'Disease', 'No Disease',\n",
       "       'Disease', 'No Disease', 'No Disease', 'Disease', 'Disease',\n",
       "       'No Disease', 'Disease', 'No Disease', 'Disease', 'Disease',\n",
       "       'Disease', 'Disease', 'No Disease', 'No Disease', 'No Disease',\n",
       "       'Disease', 'Disease', 'No Disease', 'No Disease', 'No Disease',\n",
       "       'Disease', 'Disease', 'Disease', 'Disease', 'No Disease',\n",
       "       'Disease', 'No Disease', 'Disease', 'Disease', 'No Disease',\n",
       "       'No Disease', 'Disease', 'Disease', 'No Disease', 'No Disease',\n",
       "       'Disease', 'Disease', 'No Disease', 'No Disease', 'No Disease',\n",
       "       'Disease', 'Disease', 'Disease', 'No Disease', 'Disease',\n",
       "       'Disease', 'No Disease', 'No Disease', 'No Disease', 'No Disease'],\n",
       "      dtype='<U10')"
      ]
     },
     "execution_count": 25,
     "metadata": {},
     "output_type": "execute_result"
    }
   ],
   "source": [
    "#Show that the above cell worked!\n",
    "y_test_label"
   ]
  },
  {
   "cell_type": "code",
   "execution_count": 26,
   "metadata": {},
   "outputs": [
    {
     "data": {
      "text/plain": [
       "<sklearn.metrics._plot.confusion_matrix.ConfusionMatrixDisplay at 0x24e48d457b8>"
      ]
     },
     "execution_count": 26,
     "metadata": {},
     "output_type": "execute_result"
    },
    {
     "data": {
      "image/png": "[encoded data removed]",
      "text/plain": [
       "<Figure size 432x288 with 2 Axes>"
      ]
     },
     "metadata": {
      "needs_background": "light"
     },
     "output_type": "display_data"
    }
   ],
   "source": [
    "labels = [\"No Disease\", \"Disease\"]\n",
    "\n",
    "#Generate the confusion matrix\n",
    "cm = confusion_matrix(y_test_label, y_pred_test_label, labels = labels, normalize= 'true')\n",
    "\n",
    "#Display the confusion matrix\n",
    "disp = ConfusionMatrixDisplay(confusion_matrix=cm, display_labels=labels)\n",
    "disp.plot()"
   ]
  },
  {
   "cell_type": "markdown",
   "metadata": {},
   "source": [
    "As we can see in this confusion matrix, our model is generally better when predicting cases of non-heart disease. The performance of this model isn't the best ever, but with more variables or different methods we can get better performance. Even with it as it is right now though, we could think about using it as a pre-check to see if the patient might require a further examination."
   ]
  }
 ],
 "metadata": {
  "kernelspec": {
   "display_name": "Python 3",
   "language": "python",
   "name": "python3"
  },
  "language_info": {
   "codemirror_mode": {
    "name": "ipython",
    "version": 3
   },
   "file_extension": ".py",
   "mimetype": "text/x-python",
   "name": "python",
   "nbconvert_exporter": "python",
   "pygments_lexer": "ipython3",
   "version": "3.6.12"
  }
 },
 "nbformat": 4,
 "nbformat_minor": 4
}
